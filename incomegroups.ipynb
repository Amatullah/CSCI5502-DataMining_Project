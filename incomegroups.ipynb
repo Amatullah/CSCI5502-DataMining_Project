{
 "cells": [
  {
   "cell_type": "code",
   "execution_count": 6,
   "metadata": {},
   "outputs": [],
   "source": [
    "import numpy as np\n",
    "import pandas as pd\n",
    "import matplotlib.pyplot as plt"
   ]
  },
  {
   "cell_type": "code",
   "execution_count": 8,
   "metadata": {},
   "outputs": [],
   "source": [
    "df_wages_male = pd.read_excel(\"employment/Wages_male.xls\")\n",
    "df_wages_female = pd.read_excel(\"employment/Wages_female.xls\")\n",
    "df_vulnerable_male = pd.read_excel(\"employment/Vulnerable_male.xls\")\n",
    "df_vulnerable_female = pd.read_excel(\"employment/Vulnerable_female.xls\")\n",
    "df_unemployment_15_male = pd.read_excel(\"employment/Unemployment_15_24_male.xls\")\n",
    "df_unemployment_15_female = pd.read_excel(\"employment/Unemployment_15_24_female.xls\")\n",
    "df_total_unemployment_male = pd.read_excel(\"employment/Total_Unemployment_male.xls\")\n",
    "df_total_unemployment_female = pd.read_excel(\"employment/Total_Unemployment_female.xls\")\n",
    "df_laborforce_male = pd.read_excel(\"employment/labor_force_participation_rate_male.xls\")\n",
    "df_laborforce_female = pd.read_excel(\"employment/labor_force_participation_rate_female.xls\")\n",
    "df_services_male = pd.read_excel(\"employment/Employment_services_male.xls\")\n",
    "df_services_female = pd.read_excel(\"employment/Employment_services_female.xls\")\n",
    "df_agriculture_male = pd.read_excel(\"employment/Employment_agriculture_male.xls\")\n",
    "df_agriculture_female = pd.read_excel(\"employment/Employment_agriculture_female.xls\")\n",
    "df_industry_male = pd.read_excel(\"employment/Employment_indusrty_male.xls\")\n",
    "df_industry_female = pd.read_excel(\"employment/Employment_indusrty_female.xls\")\n",
    "df_contributing_male = pd.read_excel(\"employment/Contributing_family _workers_male.xls\")\n",
    "df_contributing_female = pd.read_excel(\"employment/Contributing_family _workers_female.xls\")\n",
    "df_economy_types = pd.read_excel(\"employment/economy_types.xlsx\")\n",
    "df_employment_female = pd.read_excel(\"employment/EmploymentToPopulationRatio_15+_female.xls\")\n",
    "df_employment_male = pd.read_excel(\"employment/EmploymentToPopulationRatio_15+_male.xls\")"
   ]
  },
  {
   "cell_type": "code",
   "execution_count": 9,
   "metadata": {},
   "outputs": [
    {
     "name": "stdout",
     "output_type": "stream",
     "text": [
      "High income - 60\n",
      "Low income - 29\n",
      "Lower middle income - 48\n",
      "Upper middle income - 50\n"
     ]
    }
   ],
   "source": [
    "uniq, counts = np.unique(df_economy_types['IncomeGroup'], return_counts=True)\n",
    "for i in range(0,4):\n",
    "    print(uniq[i],\"-\",counts[i]) "
   ]
  },
  {
   "cell_type": "code",
   "execution_count": 10,
   "metadata": {},
   "outputs": [
    {
     "name": "stdout",
     "output_type": "stream",
     "text": [
      "East Asia & Pacific - 29\n",
      "Europe & Central Asia - 49\n",
      "Latin America & Caribbean - 31\n",
      "Middle East & North Africa - 21\n",
      "North America - 2\n",
      "South Asia - 8\n",
      "Sub-Saharan Africa - 47\n"
     ]
    }
   ],
   "source": [
    "uniq, counts = np.unique(df_economy_types['Region'], return_counts=True)\n",
    "for i in range(0,7):\n",
    "    print(uniq[i],\"-\",counts[i]) "
   ]
  },
  {
   "cell_type": "code",
   "execution_count": 22,
   "metadata": {},
   "outputs": [
    {
     "name": "stdout",
     "output_type": "stream",
     "text": [
      "           Country Name          IncomeGroup                      Region  \\\n",
      "0           Afghanistan           Low income                  South Asia   \n",
      "1                Angola  Lower middle income          Sub-Saharan Africa   \n",
      "2               Albania  Upper middle income       Europe & Central Asia   \n",
      "3  United Arab Emirates          High income  Middle East & North Africa   \n",
      "4             Argentina  Upper middle income   Latin America & Caribbean   \n",
      "\n",
      "       1991      1992      1993      1994      1995      1996      1997  ...  \\\n",
      "0  0.422184  0.423697  0.422872  0.426391  0.427419  0.415217  0.413734  ...   \n",
      "1  0.681529  0.680185  0.678899  0.677643  0.679935  0.681725  0.685604  ...   \n",
      "2  0.735348  0.730247  0.722559  0.722607  0.717747  0.713895  0.720066  ...   \n",
      "3  0.724573  0.727123  0.730495  0.730396  0.730182  0.732205  0.735029  ...   \n",
      "4  0.819472  0.827471  0.817587  0.814568  0.817343  0.813189  0.815333  ...   \n",
      "\n",
      "       2011      2012      2013      2014      2015      2016      2017  \\\n",
      "0  0.420967  0.434089  0.447252  0.462494  0.478059  0.501716  0.522531   \n",
      "1  0.681486  0.679651  0.681217  0.683990  0.687666  0.690484  0.690730   \n",
      "2  0.736681  0.713398  0.736765  0.769902  0.813832  0.825799  0.838532   \n",
      "3  0.761320  0.763037  0.766443  0.770746  0.776585  0.778797  0.775835   \n",
      "4  0.810645  0.809228  0.810227  0.808308  0.808629  0.809754  0.811979   \n",
      "\n",
      "       2018      2019      2020  \n",
      "0  0.529998  0.534712  0.538214  \n",
      "1  0.692970  0.695404  0.697467  \n",
      "2  0.842364  0.843603  0.844546  \n",
      "3  0.773725  0.772782  0.772094  \n",
      "4  0.813112  0.811314  0.809570  \n",
      "\n",
      "[5 rows x 33 columns]\n"
     ]
    }
   ],
   "source": [
    "dict_female = {'Country Name' : df_economy_types['TableName']}\n",
    "dict_male = {'Country Name' : df_economy_types['TableName']}\n",
    "dict_GenderEmploymentIndex = {'Country Name' : df_economy_types['TableName'], 'IncomeGroup' : df_economy_types['IncomeGroup'], 'Region' : df_economy_types['Region'] }\n",
    "\n",
    "j, k = 1, 0\n",
    "for i in range(30):\n",
    "    \n",
    "    #Creating the string representation of the year\n",
    "    if(i <=8):\n",
    "        year_str = '199'+str(j)\n",
    "        j +=1\n",
    "    elif (i >= 9 and i <= 18) :\n",
    "        year_str = '200'+str(k)\n",
    "        k +=1\n",
    "    else:\n",
    "        year_str = '20'+str(k)\n",
    "        k +=1\n",
    "    \n",
    "    factor_wage = df_wages_female[year_str]/df_wages_male[year_str]\n",
    "    factor_unemployment = (100-df_total_unemployment_female[year_str])/(100-df_total_unemployment_male[year_str])\n",
    "    factor_laborforce = df_laborforce_female[year_str]/df_laborforce_male[year_str]\n",
    "    factor_services = df_services_female[year_str]/df_services_male[year_str]\n",
    "    factor_agriculture = df_agriculture_female[year_str]/df_agriculture_male[year_str]\n",
    "    factor_industry = df_industry_female[year_str]/df_industry_male[year_str]\n",
    "    factor_employment = df_employment_female[year_str]/df_employment_male[year_str]\n",
    "    \n",
    "    ratio =   factor_industry + factor_laborforce + factor_employment +\\\n",
    "            factor_services  + factor_wage \n",
    "    \n",
    "    dict_GenderEmploymentIndex[year_str] = ratio/5\n",
    "\n",
    "\n",
    "#Creating the male, female and GEI dataframe \n",
    "df_female = pd.DataFrame(dict_female)\n",
    "df_male = pd.DataFrame(dict_male)\n",
    "df_GenderEmploymentIndex = pd.DataFrame(dict_GenderEmploymentIndex)\n",
    "print(df_GenderEmploymentIndex.head(5))\n",
    "df_GenderEmploymentIndex.to_csv (r'comboclustered_data.csv', index = None, header=True) "
   ]
  },
  {
   "cell_type": "code",
   "execution_count": 19,
   "metadata": {},
   "outputs": [
    {
     "data": {
      "text/html": [
       "<div>\n",
       "<style scoped>\n",
       "    .dataframe tbody tr th:only-of-type {\n",
       "        vertical-align: middle;\n",
       "    }\n",
       "\n",
       "    .dataframe tbody tr th {\n",
       "        vertical-align: top;\n",
       "    }\n",
       "\n",
       "    .dataframe thead th {\n",
       "        text-align: right;\n",
       "    }\n",
       "</style>\n",
       "<table border=\"1\" class=\"dataframe\">\n",
       "  <thead>\n",
       "    <tr style=\"text-align: right;\">\n",
       "      <th></th>\n",
       "      <th>Country Name</th>\n",
       "      <th>5yearaverage</th>\n",
       "    </tr>\n",
       "  </thead>\n",
       "  <tbody>\n",
       "    <tr>\n",
       "      <th>15</th>\n",
       "      <td>Bahrain</td>\n",
       "      <td>3.587418</td>\n",
       "    </tr>\n",
       "    <tr>\n",
       "      <th>140</th>\n",
       "      <td>Qatar</td>\n",
       "      <td>2.532262</td>\n",
       "    </tr>\n",
       "    <tr>\n",
       "      <th>127</th>\n",
       "      <td>Oman</td>\n",
       "      <td>1.965614</td>\n",
       "    </tr>\n",
       "    <tr>\n",
       "      <th>144</th>\n",
       "      <td>Saudi Arabia</td>\n",
       "      <td>1.772975</td>\n",
       "    </tr>\n",
       "    <tr>\n",
       "      <th>167</th>\n",
       "      <td>Tonga</td>\n",
       "      <td>1.632554</td>\n",
       "    </tr>\n",
       "  </tbody>\n",
       "</table>\n",
       "</div>"
      ],
      "text/plain": [
       "     Country Name  5yearaverage\n",
       "15        Bahrain      3.587418\n",
       "140         Qatar      2.532262\n",
       "127          Oman      1.965614\n",
       "144  Saudi Arabia      1.772975\n",
       "167         Tonga      1.632554"
      ]
     },
     "execution_count": 19,
     "metadata": {},
     "output_type": "execute_result"
    }
   ],
   "source": [
    "df_GenderEmploymentIndex['5yearaverage'] = df_GenderEmploymentIndex[['2016','2017','2018','2019','2020']].mean(axis=1)\n",
    "gk = df_GenderEmploymentIndex.groupby('IncomeGroup')\n",
    "df2= gk.get_group('Low income')\n",
    "df_GenderEmploymentIndex.nlargest(5,['5yearaverage'])[['Country Name','5yearaverage']]"
   ]
  },
  {
   "cell_type": "code",
   "execution_count": null,
   "metadata": {},
   "outputs": [],
   "source": []
  }
 ],
 "metadata": {
  "kernelspec": {
   "display_name": "Python 3",
   "language": "python",
   "name": "python3"
  },
  "language_info": {
   "codemirror_mode": {
    "name": "ipython",
    "version": 3
   },
   "file_extension": ".py",
   "mimetype": "text/x-python",
   "name": "python",
   "nbconvert_exporter": "python",
   "pygments_lexer": "ipython3",
   "version": "3.8.5"
  }
 },
 "nbformat": 4,
 "nbformat_minor": 4
}
