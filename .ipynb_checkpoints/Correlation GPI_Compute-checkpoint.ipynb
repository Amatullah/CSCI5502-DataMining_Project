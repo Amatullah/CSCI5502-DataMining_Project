{
 "cells": [
  {
   "cell_type": "code",
   "execution_count": 1,
   "metadata": {},
   "outputs": [],
   "source": [
    "import pyexcel as p\n",
    "import openpyxl as xl\n",
    "\n",
    "p.save_book_as(file_name='Dataset/employment/literacy_female.xls',\n",
    "               dest_file_name='Dataset/employment/literacy_female.xlsx')\n",
    "\n",
    "p.save_book_as(file_name='Dataset/employment/Employment_services_female.xls',\n",
    "               dest_file_name='Dataset/employment/Employment_services_female.xlsx')\n",
    "\n",
    "in_file =\"Dataset/employment/literacy_female.xlsx\"\n",
    "oldwb = xl.load_workbook(in_file)\n",
    "oldws = oldwb.worksheets[0]\n",
    "\n",
    "in_file1 =\"Dataset/employment/Employment_services_female.xlsx\"\n",
    "oldwb1 = xl.load_workbook(in_file1)\n",
    "oldws1 = oldwb1.worksheets[0]\n",
    "\n",
    "out_file = \"Dataset/employment/literacy_services_female.xlsx\"\n",
    "newwb = xl.load_workbook(out_file)\n",
    "newws = newwb.active \n",
    "\n",
    "i=2\n",
    "#read from first file\n",
    "for process_line in range(2,266):\n",
    "\t#3,267\n",
    "\tcountry_name=oldws.cell(row = process_line, column = 1).value\n",
    "\tfor cols in range(3,63):\n",
    "\t\t#print(oldws.cell(row =2, column = cols).value)\n",
    "\t\tdata_point=oldws.cell(row = process_line, column = cols).value\n",
    "\t\tif data_point!=None:\n",
    "\t\t\tfor line in range(2,189):\n",
    "\t\t\t\tif oldws1.cell(row = line, column = 1).value==country_name:\n",
    "\t\t\t\t\tdata_point_2=oldws1.cell(row = line, column = cols).value\n",
    "\t\t\t\t\tif data_point_2!=None:\n",
    "\t\t\t\t\t#save data point from both file\n",
    "\t\t\t\t\t\tnewws.cell(row =i, column = 1).value = country_name\n",
    "\t\t\t\t\t\tnewws.cell(row =i, column = 2).value = oldws.cell(row = 1, column = cols).value\n",
    "\t\t\t\t\t\tnewws.cell(row =i, column = 3).value = data_point\n",
    "\t\t\t\t\t\tnewws.cell(row =i, column = 4).value = data_point_2\n",
    "\t\t\t\t\t\ti=i+1\n",
    "\t\t\n",
    "newwb.save(str(out_file))\n",
    "\n",
    "#employment_agriculture is done"
   ]
  },
  {
   "cell_type": "code",
   "execution_count": 2,
   "metadata": {},
   "outputs": [],
   "source": [
    "#calculating correlation coefficient \n",
    "\n",
    "import numpy as np\n",
    "import pandas as pd\n",
    "\n",
    "df = pd.read_excel('Dataset/employment/literacy_services_female.xlsx', index_col=0) "
   ]
  },
  {
   "cell_type": "code",
   "execution_count": null,
   "metadata": {},
   "outputs": [],
   "source": []
  },
  {
   "cell_type": "code",
   "execution_count": 3,
   "metadata": {},
   "outputs": [],
   "source": [
    "correlated_features = set()\n",
    "correlation_matrix = df.corr()"
   ]
  },
  {
   "cell_type": "code",
   "execution_count": 4,
   "metadata": {},
   "outputs": [
    {
     "name": "stdout",
     "output_type": "stream",
     "text": [
      "                        Year  Literacy  Employ_Agriculture\n",
      "Year                1.000000  0.202493            0.205167\n",
      "Literacy            0.202493  1.000000            0.674085\n",
      "Employ_Agriculture  0.205167  0.674085            1.000000\n"
     ]
    }
   ],
   "source": [
    "print(correlation_matrix)"
   ]
  },
  {
   "cell_type": "code",
   "execution_count": 5,
   "metadata": {},
   "outputs": [
    {
     "name": "stdout",
     "output_type": "stream",
     "text": [
      "0.674084703490613\n"
     ]
    }
   ],
   "source": [
    "column_1 = df[\"Literacy\"]\n",
    "column_2 = df[\"Employ_Agriculture\"]\n",
    "correlation = column_1.corr(column_2)\n",
    "print(correlation)"
   ]
  },
  {
   "cell_type": "code",
   "execution_count": 13,
   "metadata": {},
   "outputs": [
    {
     "data": {
      "image/png": "[encoded data removed]",
      "text/plain": [
       "<Figure size 432x288 with 2 Axes>"
      ]
     },
     "metadata": {
      "needs_background": "light"
     },
     "output_type": "display_data"
    }
   ],
   "source": [
    "#heatmap of correlation matrix\n",
    "import seaborn as sns\n",
    "\n",
    "ax = sns.heatmap(\n",
    "    correlation_matrix, \n",
    "    vmin=-1, vmax=1, center=0,\n",
    "    cmap=sns.diverging_palette(20, 220, n=200),\n",
    "    square=True\n",
    ")\n",
    "ax.set_xticklabels(\n",
    "    ax.get_xticklabels(),\n",
    "    rotation=45,\n",
    "    horizontalalignment='right'\n",
    ");"
   ]
  },
  {
   "cell_type": "code",
   "execution_count": 7,
   "metadata": {},
   "outputs": [],
   "source": [
    "import pyexcel as p\n",
    "import openpyxl as xl\n",
    "\n",
    "p.save_book_as(file_name='Dataset/employment/GenderEmploymentIndex.xlsx',\n",
    "               dest_file_name='Dataset/employment/GenderEmploymentIndex.xlsx')\n",
    "\n",
    "\n",
    "in_file =\"Dataset/employment/GenderEmploymentIndex.xlsx\"\n",
    "oldwb = xl.load_workbook(in_file)\n",
    "oldws = oldwb.worksheets[0]\n",
    "\n",
    "in_file1 =\"Dataset/employment/GPI_3_factors.xlsx\"\n",
    "oldwb1 = xl.load_workbook(in_file1)\n",
    "oldws1 = oldwb1.worksheets[0]\n",
    "\n",
    "out_file = \"Dataset/employment/GPI_Gender_Employment_upper_middle.xlsx\"\n",
    "newwb = xl.load_workbook(out_file)\n",
    "newws = newwb.active \n",
    "\n",
    "i=2\n",
    "#read from first file\n",
    "for process_line in range(2,189):\n",
    "\t#3,267\n",
    "\tcountry_name=oldws.cell(row = process_line, column = 1).value\n",
    "\tincome_group=oldws.cell(row = process_line, column = 2).value\n",
    "\tif income_group==\"Upper middle income\":\n",
    "\t\tfor cols in range(4,34):\n",
    "\t\t\t#print(oldws.cell(row =2, column = cols).value)\n",
    "\t\t\tyear=oldws.cell(row = 1, column = cols).value\n",
    "\t\t\tdata_point=oldws.cell(row = process_line, column = cols).value\n",
    "\t\t\tdata_point_2=oldws1.cell(row = process_line, column = cols).value\n",
    "\t\t\tnewws.cell(row =i, column = 1).value = country_name\n",
    "\t\t\tnewws.cell(row =i, column = 2).value = income_group\n",
    "\t\t\tnewws.cell(row =i, column = 3).value = year\n",
    "\t\t\tnewws.cell(row =i, column = 4).value = data_point_2\n",
    "\t\t\tnewws.cell(row =i, column = 5).value = data_point\n",
    "\t\t\ti=i+1\n",
    "\n",
    "\n",
    "\n",
    "newwb.save(str(out_file))"
   ]
  },
  {
   "cell_type": "code",
   "execution_count": 8,
   "metadata": {},
   "outputs": [],
   "source": [
    "#calculating correlation coefficient \n",
    "\n",
    "import numpy as np\n",
    "import pandas as pd\n",
    "\n",
    "df1 = pd.read_excel('Dataset/employment/GPI_Gender_Employment_upper_middle.xlsx', index_col=0) "
   ]
  },
  {
   "cell_type": "code",
   "execution_count": 15,
   "metadata": {},
   "outputs": [],
   "source": [
    "correlated_features = set()\n",
    "correlation_matrix1 = df1.corr()"
   ]
  },
  {
   "cell_type": "code",
   "execution_count": 16,
   "metadata": {},
   "outputs": [
    {
     "name": "stdout",
     "output_type": "stream",
     "text": [
      "                       Year       GPI  Gender_Employment\n",
      "Year               1.000000  0.033229          -0.031184\n",
      "GPI                0.033229  1.000000           0.850256\n",
      "Gender_Employment -0.031184  0.850256           1.000000\n"
     ]
    }
   ],
   "source": [
    "print(correlation_matrix1)"
   ]
  },
  {
   "cell_type": "code",
   "execution_count": 17,
   "metadata": {},
   "outputs": [
    {
     "name": "stdout",
     "output_type": "stream",
     "text": [
      "0.8502556432207031\n"
     ]
    }
   ],
   "source": [
    "column_1 = df1[\"GPI\"]\n",
    "column_2 = df1[\"Gender_Employment\"]\n",
    "correlation1 = column_1.corr(column_2)\n",
    "print(correlation1)"
   ]
  },
  {
   "cell_type": "code",
   "execution_count": 18,
   "metadata": {},
   "outputs": [
    {
     "data": {
      "image/png": "[encoded data removed]",
      "text/plain": [
       "<Figure size 432x288 with 2 Axes>"
      ]
     },
     "metadata": {
      "needs_background": "light"
     },
     "output_type": "display_data"
    }
   ],
   "source": [
    "#heatmap of correlation matrix\n",
    "import seaborn as sns\n",
    "\n",
    "ax = sns.heatmap(\n",
    "    correlation_matrix1, \n",
    "    vmin=-1, vmax=1, center=0,\n",
    "    cmap=sns.diverging_palette(20, 220, n=200),\n",
    "    square=True\n",
    ")\n",
    "ax.set_xticklabels(\n",
    "    ax.get_xticklabels(),\n",
    "    rotation=45,\n",
    "    horizontalalignment='right'\n",
    ");"
   ]
  },
  {
   "cell_type": "code",
   "execution_count": null,
   "metadata": {},
   "outputs": [],
   "source": []
  }
 ],
 "metadata": {
  "kernelspec": {
   "display_name": "Python 3",
   "language": "python",
   "name": "python3"
  },
  "language_info": {
   "codemirror_mode": {
    "name": "ipython",
    "version": 3
   },
   "file_extension": ".py",
   "mimetype": "text/x-python",
   "name": "python",
   "nbconvert_exporter": "python",
   "pygments_lexer": "ipython3",
   "version": "3.7.3"
  }
 },
 "nbformat": 4,
 "nbformat_minor": 2
}
