{
 "cells": [
  {
   "cell_type": "code",
   "execution_count": 6,
   "metadata": {},
   "outputs": [],
   "source": [
    "import pyexcel as p\n",
    "import openpyxl as xl\n",
    "import numpy as np\n",
    "import pandas as pd\n",
    "import matplotlib.pyplot as plt"
   ]
  },
  {
   "cell_type": "code",
   "execution_count": 7,
   "metadata": {},
   "outputs": [],
   "source": [
    "in_file=\"/home/xuefei/CSCI5502-DataMining_Project/Dataset/employment/Contributing_family _workers_female.xlsx\"\n",
    "oldwb = xl.load_workbook(in_file)\n",
    "oldws = oldwb.worksheets[0]"
   ]
  },
  {
   "cell_type": "code",
   "execution_count": 8,
   "metadata": {
    "scrolled": false
   },
   "outputs": [],
   "source": [
    "in_file1=\"/home/xuefei/CSCI5502-DataMining_Project/Dataset/employment/real_data.xlsx\"\n",
    "oldwb1 = xl.load_workbook(in_file1)\n",
    "oldws1 = oldwb1.worksheets[0]"
   ]
  },
  {
   "cell_type": "code",
   "execution_count": 9,
   "metadata": {},
   "outputs": [],
   "source": [
    "out_file = \"/home/xuefei/CSCI5502-DataMining_Project/Dataset/employment/Contributing_family _workers_male.xlsx\"\n",
    "newwb = xl.load_workbook(out_file)\n",
    "newws = newwb.active "
   ]
  },
  {
   "cell_type": "code",
   "execution_count": 60,
   "metadata": {
    "scrolled": true
   },
   "outputs": [],
   "source": [
    "for process_line in range(2,189):\n",
    "    country_name=oldws.cell(row = process_line, column = 1).value\n",
    "    for row_index in range(2,265):\n",
    "        if oldws1.cell(row= row_index, column = 1).value==country_name:\n",
    "            for cols in range(3,33):\n",
    "                newws.cell(row = process_line, column = cols).value= oldws1.cell(row =row_index, column = cols).value\n",
    "newwb.save(str(out_file))"
   ]
  },
  {
   "cell_type": "code",
   "execution_count": 61,
   "metadata": {},
   "outputs": [],
   "source": [
    "df_family_female = pd.read_excel(\"/home/xuefei/CSCI5502-DataMining_Project/Dataset/employment/Contributing_family _workers_female.xlsx\")\n",
    "df_family_male = pd.read_excel(\"/home/xuefei/CSCI5502-DataMining_Project/Dataset/employment/Contributing_family _workers_male.xlsx\")"
   ]
  },
  {
   "cell_type": "code",
   "execution_count": 62,
   "metadata": {},
   "outputs": [],
   "source": [
    "female_column = df_family_female.mean(axis=0)\n",
    "male_column = df_family_male.mean(axis=0)"
   ]
  },
  {
   "cell_type": "code",
   "execution_count": 63,
   "metadata": {},
   "outputs": [],
   "source": [
    "female_years=[]\n",
    "for i in range(1991,2021):\n",
    "    year=str(i)\n",
    "    female_years.append((female_column[year]))\n",
    "    \n",
    "y1=np.array(female_years)"
   ]
  },
  {
   "cell_type": "code",
   "execution_count": 71,
   "metadata": {},
   "outputs": [
    {
     "name": "stdout",
     "output_type": "stream",
     "text": [
      "[20.60560436 20.53791451 20.36095727 20.14577542 19.93376472 19.73504282\n",
      " 19.55945468 19.39081812 19.23654552 18.96939038 18.74591979 18.44335298\n",
      " 18.30235296 18.0111604  17.74708545 17.48662565 17.15038506 16.87934759\n",
      " 16.61722988 16.38174327 16.08086091 15.83445994 15.57943315 15.33140107\n",
      " 15.01175397 14.59557224 14.23005347 14.03750272 13.85043312 13.67147057]\n"
     ]
    }
   ],
   "source": [
    "print(y1)"
   ]
  },
  {
   "cell_type": "code",
   "execution_count": 64,
   "metadata": {},
   "outputs": [],
   "source": [
    "male_years=[]\n",
    "for i in range(1991,2021):\n",
    "    year=str(i)\n",
    "    male_years.append((male_column[year]))\n",
    "    \n",
    "y2=np.array(male_years)"
   ]
  },
  {
   "cell_type": "code",
   "execution_count": 72,
   "metadata": {},
   "outputs": [
    {
     "name": "stdout",
     "output_type": "stream",
     "text": [
      "[34.55095197 34.5065828  34.33325122 34.19830487 33.83964179 33.51063649\n",
      " 33.20619793 32.91550274 32.76837439 32.44289836 32.10062571 31.78636904\n",
      " 31.33372731 30.75327258 30.30119251 29.73122461 29.15211224 28.73325666\n",
      " 28.47547051 28.0373209  27.6862567  27.26780219 26.86588767 26.39204286\n",
      " 25.99598933 25.66510172 25.33325128 24.97415506 24.69110162 24.40462032]\n"
     ]
    }
   ],
   "source": [
    "print(y2)"
   ]
  },
  {
   "cell_type": "code",
   "execution_count": 73,
   "metadata": {},
   "outputs": [],
   "source": [
    "all_gender_years=[]\n",
    "for i in range(1991,2021):\n",
    "    year=str(i)\n",
    "    ratio=male_column[year]/female_column[year]\n",
    "    all_gender_years.append(ratio)\n",
    "y=np.array(all_gender_years)"
   ]
  },
  {
   "cell_type": "code",
   "execution_count": 74,
   "metadata": {},
   "outputs": [
    {
     "name": "stdout",
     "output_type": "stream",
     "text": [
      "[1.6767745  1.68014054 1.68622972 1.69754225 1.69760415 1.69802705\n",
      " 1.69770571 1.6974788  1.70344381 1.71027628 1.71240601 1.72345934\n",
      " 1.71200541 1.70745648 1.70738979 1.70022652 1.69979345 1.70227294\n",
      " 1.71361116 1.711498   1.72168996 1.72205445 1.72444577 1.72143712\n",
      " 1.73170899 1.75841696 1.78026396 1.77910242 1.78269527 1.78507646]\n"
     ]
    }
   ],
   "source": [
    "print(y)"
   ]
  },
  {
   "cell_type": "code",
   "execution_count": 65,
   "metadata": {},
   "outputs": [],
   "source": [
    "years=[]\n",
    "for i in range(1991,2021):\n",
    "    years.append(i)\n",
    "x=np.array(years)"
   ]
  },
  {
   "cell_type": "code",
   "execution_count": 79,
   "metadata": {},
   "outputs": [
    {
     "name": "stdout",
     "output_type": "stream",
     "text": [
      "-0.250658790129523 520.1116506708184\n",
      "-0.3826732097809258 797.3162263285371\n",
      "0.002907826552833701 -4.113571709275083\n"
     ]
    }
   ],
   "source": [
    "m1, b1 = np.polyfit(x, y1, 1)\n",
    "print(m1,b1)\n",
    "m2, b2 = np.polyfit(x, y2, 1)\n",
    "print(m2,b2)\n",
    "m, b = np.polyfit(x, y, 1)\n",
    "print(m, b)"
   ]
  },
  {
   "cell_type": "code",
   "execution_count": 80,
   "metadata": {},
   "outputs": [
    {
     "data": {
      "text/plain": [
       "[<matplotlib.lines.Line2D at 0x7f600b9b2100>]"
      ]
     },
     "execution_count": 80,
     "metadata": {},
     "output_type": "execute_result"
    },
    {
     "data": {
      "image/png": "[encoded data removed]",
      "text/plain": [
       "<Figure size 432x288 with 1 Axes>"
      ]
     },
     "metadata": {
      "needs_background": "light"
     },
     "output_type": "display_data"
    }
   ],
   "source": [
    "plt.title(\"Contributing Family Worker -- Female\")\n",
    "plt.xlabel('Year')\n",
    "plt.ylabel('Female Employment Rate')\n",
    "#female_column.plot()\n",
    "plt.plot(x, y1, 'o')\n",
    "plt.plot(x, m1*x + b1)"
   ]
  },
  {
   "cell_type": "code",
   "execution_count": 81,
   "metadata": {},
   "outputs": [
    {
     "data": {
      "text/plain": [
       "[<matplotlib.lines.Line2D at 0x7f600bc43d60>]"
      ]
     },
     "execution_count": 81,
     "metadata": {},
     "output_type": "execute_result"
    },
    {
     "data": {
      "image/png": "[encoded data removed]",
      "text/plain": [
       "<Figure size 432x288 with 1 Axes>"
      ]
     },
     "metadata": {
      "needs_background": "light"
     },
     "output_type": "display_data"
    }
   ],
   "source": [
    "plt.title(\"Contributing Family Worker -- Male\")\n",
    "plt.xlabel('Year')\n",
    "plt.ylabel('Male Employment Rate')\n",
    "#male_column.plot()\n",
    "plt.plot(x, y2, 'o')\n",
    "plt.plot(x, m2*x + b2)"
   ]
  },
  {
   "cell_type": "code",
   "execution_count": 82,
   "metadata": {},
   "outputs": [
    {
     "data": {
      "text/plain": [
       "[<matplotlib.lines.Line2D at 0x7f600b88c610>]"
      ]
     },
     "execution_count": 82,
     "metadata": {},
     "output_type": "execute_result"
    },
    {
     "data": {
      "image/png": "[encoded data removed]",
      "text/plain": [
       "<Figure size 432x288 with 1 Axes>"
      ]
     },
     "metadata": {
      "needs_background": "light"
     },
     "output_type": "display_data"
    }
   ],
   "source": [
    "plt.title(\"Contributing Family Worker Ratio\")\n",
    "plt.xlabel('Year')\n",
    "plt.ylabel('Ratio Value')\n",
    "#female_column.plot()\n",
    "plt.plot(x, y, 'o')\n",
    "plt.plot(x, m*x + b)"
   ]
  },
  {
   "cell_type": "code",
   "execution_count": null,
   "metadata": {},
   "outputs": [],
   "source": []
  },
  {
   "cell_type": "code",
   "execution_count": null,
   "metadata": {},
   "outputs": [],
   "source": []
  },
  {
   "cell_type": "code",
   "execution_count": null,
   "metadata": {},
   "outputs": [],
   "source": []
  }
 ],
 "metadata": {
  "kernelspec": {
   "display_name": "Python 3",
   "language": "python",
   "name": "python3"
  },
  "language_info": {
   "codemirror_mode": {
    "name": "ipython",
    "version": 3
   },
   "file_extension": ".py",
   "mimetype": "text/x-python",
   "name": "python",
   "nbconvert_exporter": "python",
   "pygments_lexer": "ipython3",
   "version": "3.8.5"
  },
  "toc": {
   "base_numbering": 1,
   "nav_menu": {},
   "number_sections": true,
   "sideBar": true,
   "skip_h1_title": false,
   "title_cell": "Table of Contents",
   "title_sidebar": "Contents",
   "toc_cell": false,
   "toc_position": {},
   "toc_section_display": true,
   "toc_window_display": true
  }
 },
 "nbformat": 4,
 "nbformat_minor": 2
}
