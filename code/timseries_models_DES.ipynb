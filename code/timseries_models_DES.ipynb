{
 "cells": [
  {
   "cell_type": "code",
   "execution_count": 1,
   "metadata": {},
   "outputs": [],
   "source": [
    "import numpy as np\n",
    "import pandas as pd\n",
    "import matplotlib.pyplot as plt\n",
    "from statsmodels.tsa.holtwinters import SimpleExpSmoothing, Holt\n",
    "from statsmodels.tsa.holtwinters import ExponentialSmoothing\n",
    "from sklearn.metrics import mean_absolute_error"
   ]
  },
  {
   "cell_type": "code",
   "execution_count": 2,
   "metadata": {},
   "outputs": [],
   "source": [
    "#df_wages_male = pd.read_excel(\"employment/Wages_male.xls\")\n",
    "#df_wages_female = pd.read_excel(\"employment/Wages_female.xls\")\n",
    "#df_vulnerable_male = pd.read_excel(\"employment/Vulnerable_male.xls\")\n",
    "#df_vulnerable_female = pd.read_excel(\"employment/Vulnerable_female.xls\")\n",
    "#df_unemployment_15_male = pd.read_excel(\"employment/Unemployment_15_24_male.xls\")\n",
    "#df_unemployment_15_female = pd.read_excel(\"employment/Unemployment_15_24_female.xls\")\n",
    "#df_total_unemployment_male = pd.read_excel(\"employment/Total_Unemployment_male.xls\")\n",
    "#df_total_unemployment_female = pd.read_excel(\"employment/Total_Unemployment_female.xls\")\n",
    "#df_laborforce_male = pd.read_excel(\"employment/labor_force_participation_rate_male.xls\")\n",
    "#df_laborforce_female = pd.read_excel(\"employment/labor_force_participation_rate_female.xls\")\n",
    "df_services_male = pd.read_excel(\"employment/Employment_services_male.xls\")\n",
    "df_services_female = pd.read_excel(\"employment/Employment_services_female.xls\")\n",
    "df_agriculture_male = pd.read_excel(\"employment/Employment_agriculture_male.xls\")\n",
    "df_agriculture_female = pd.read_excel(\"employment/Employment_agriculture_female.xls\")\n",
    "df_industry_male = pd.read_excel(\"employment/Employment_indusrty_male.xls\")\n",
    "df_industry_female = pd.read_excel(\"employment/Employment_indusrty_female.xls\")\n",
    "#df_contributing_male = pd.read_excel(\"employment/Contributing_family _workers_male.xls\")\n",
    "#df_contributing_female = pd.read_excel(\"employment/Contributing_family _workers_female.xls\")\n",
    "df_economy_types = pd.read_excel(\"employment/economy_types.xlsx\")\n",
    "df_employment_female = pd.read_excel(\"employment/EmploymentToPopulationRatio_15+_female.xls\")\n",
    "df_employment_male = pd.read_excel(\"employment/EmploymentToPopulationRatio_15+_male.xls\")"
   ]
  },
  {
   "cell_type": "code",
   "execution_count": 3,
   "metadata": {},
   "outputs": [
    {
     "name": "stdout",
     "output_type": "stream",
     "text": [
      "           Country Name          IncomeGroup                      Region  \\\n",
      "0           Afghanistan           Low income                  South Asia   \n",
      "1                Angola  Lower middle income          Sub-Saharan Africa   \n",
      "2               Albania  Upper middle income       Europe & Central Asia   \n",
      "3  United Arab Emirates          High income  Middle East & North Africa   \n",
      "4             Argentina  Upper middle income   Latin America & Caribbean   \n",
      "\n",
      "       1991      1992      1993      1994      1995      1996      1997  ...  \\\n",
      "0  0.231623  0.232199  0.231855  0.230641  0.233024  0.231250  0.227984  ...   \n",
      "1  1.483473  1.476862  1.466940  1.471737  1.476816  1.483942  1.481946  ...   \n",
      "2  1.051762  1.054694  1.037482  1.029736  1.030518  1.024728  1.043581  ...   \n",
      "3  0.002195  0.002236  0.002284  0.002258  0.002240  0.002291  0.002309  ...   \n",
      "4  0.175008  0.437392  0.325477  0.250945  0.275114  0.122606  0.137934  ...   \n",
      "\n",
      "       2011      2012      2013      2014      2015      2016      2017  \\\n",
      "0  0.269738  0.286720  0.315229  0.346150  0.381077  0.418337  0.464590   \n",
      "1  1.241058  1.262426  1.267499  1.263471  1.250547  1.238591  1.233868   \n",
      "2  1.019087  1.160971  1.053151  0.980138  0.938650  0.919701  0.896478   \n",
      "3  0.002503  0.002520  0.002692  0.002680  0.002857  0.002736  0.002738   \n",
      "4  0.207089  0.214900  0.162065  0.120623  0.118025  0.113589  0.109547   \n",
      "\n",
      "       2018      2019      2020  \n",
      "0  0.480696  0.489378  0.498161  \n",
      "1  1.223694  1.224858  1.227425  \n",
      "2  0.892668  0.883362  0.880052  \n",
      "3  0.002733  0.002843  0.002605  \n",
      "4  0.323473  0.269568  0.244561  \n",
      "\n",
      "[5 rows x 33 columns]\n"
     ]
    }
   ],
   "source": [
    "dict_female = {'Country Name' : df_economy_types['TableName']}\n",
    "dict_male = {'Country Name' : df_economy_types['TableName']}\n",
    "dict_GenderEmploymentIndex = {'Country Name' : df_economy_types['TableName'], 'Country Code' : df_economy_types['Country Code'],'IncomeGroup' : df_economy_types['IncomeGroup'], 'Region' : df_economy_types['Region'] }\n",
    "dict_ServicesIndex = {'Country Name' : df_economy_types['TableName'], 'IncomeGroup' : df_economy_types['IncomeGroup'], 'Region' : df_economy_types['Region'] }\n",
    "dict_IndustryIndex = {'Country Name' : df_economy_types['TableName'], 'IncomeGroup' : df_economy_types['IncomeGroup'], 'Region' : df_economy_types['Region'] }\n",
    "dict_AgricultureIndex = {'Country Name' : df_economy_types['TableName'], 'IncomeGroup' : df_economy_types['IncomeGroup'], 'Region' : df_economy_types['Region'] }\n",
    "j, k = 1, 0\n",
    "for i in range(30):\n",
    "    \n",
    "    #Creating the string representation of the year\n",
    "    if(i <=8):\n",
    "        year_str = '199'+str(j)\n",
    "        j +=1\n",
    "    elif (i >= 9 and i <= 18) :\n",
    "        year_str = '200'+str(k)\n",
    "        k +=1\n",
    "    else:\n",
    "        year_str = '20'+str(k)\n",
    "        k +=1\n",
    "    \n",
    "    #factor_wage = (df_wages_female[year_str]*df_employment_female[year_str])/(df_wages_male[year_str]*df_employment_male[year_str])\n",
    "    #factor_laborforce = df_laborforce_female[year_str]/df_laborforce_male[year_str]\n",
    "    factor_services = (df_services_female[year_str]*df_employment_female[year_str])/(df_services_male[year_str]*df_employment_male[year_str])\n",
    "    factor_agriculture = (df_agriculture_female[year_str]*df_employment_female[year_str])/(df_agriculture_male[year_str]*df_employment_male[year_str])\n",
    "    factor_industry = (df_industry_female[year_str]*df_employment_female[year_str])/(df_industry_male[year_str]*df_employment_male[year_str])\n",
    "    factor_employment = df_employment_female[year_str]/df_employment_male[year_str]\n",
    "    \n",
    "    ratio =   factor_industry   +\\\n",
    "            factor_services   + factor_agriculture\n",
    "    \n",
    "    dict_GenderEmploymentIndex[year_str] = ratio/3\n",
    "    dict_ServicesIndex[year_str] = factor_services\n",
    "    dict_IndustryIndex[year_str] = factor_industry\n",
    "    dict_AgricultureIndex[year_str] = factor_agriculture\n",
    "\n",
    "#Creating the male, female and GEI dataframe \n",
    "df_female = pd.DataFrame(dict_female)\n",
    "df_male = pd.DataFrame(dict_male)\n",
    "df_GenderEmploymentIndex = pd.DataFrame(dict_GenderEmploymentIndex)\n",
    "df_GenderServicesIndex = pd.DataFrame(dict_ServicesIndex)\n",
    "df_GenderIndustryIndex = pd.DataFrame(dict_IndustryIndex)\n",
    "df_GenderAgricultureIndex = pd.DataFrame(dict_AgricultureIndex)\n",
    "print(df_GenderAgricultureIndex.head(5))\n",
    "#df_GenderEmploymentIndex.to_csv (r'comboclustered_data.csv', index = None, header=True) "
   ]
  },
  {
   "cell_type": "code",
   "execution_count": 4,
   "metadata": {},
   "outputs": [
    {
     "name": "stdout",
     "output_type": "stream",
     "text": [
      "2021-12-31    0.506945\n",
      "2022-12-31    0.515728\n",
      "2023-12-31    0.524511\n",
      "2024-12-31    0.533295\n",
      "2025-12-31    0.542078\n",
      "Freq: A-DEC, Name: $\\alpha=0.2$, dtype: float64\n"
     ]
    }
   ],
   "source": [
    "import os\n",
    "import numpy as np\n",
    "import pandas as pd\n",
    "import matplotlib.pyplot as plt\n",
    "%matplotlib inline\n",
    "\n",
    "data = np.zeros(30)\n",
    "i=0\n",
    "for j in range(1991,2021):\n",
    "    data[i] = df_GenderAgricultureIndex[str(j)][0]\n",
    "    i = i+1\n",
    "index= pd.date_range(start='1991', end='2021', freq='A')\n",
    "agridata = pd.Series(data, index)\n",
    "fit1 = ExponentialSmoothing(agridata,trend='add').fit()\n",
    "fcast3 = fit1.forecast(5).rename(r'$\\alpha=0.2$')\n",
    "print(fcast3)\n"
   ]
  },
  {
   "cell_type": "code",
   "execution_count": 5,
   "metadata": {},
   "outputs": [
    {
     "name": "stderr",
     "output_type": "stream",
     "text": [
      "C:\\Users\\Srihaasa\\Anaconda3\\lib\\site-packages\\statsmodels\\tsa\\holtwinters.py:711: ConvergenceWarning: Optimization failed to converge. Check mle_retvals.\n",
      "  ConvergenceWarning)\n",
      "C:\\Users\\Srihaasa\\Anaconda3\\lib\\site-packages\\statsmodels\\tsa\\holtwinters.py:711: ConvergenceWarning: Optimization failed to converge. Check mle_retvals.\n",
      "  ConvergenceWarning)\n",
      "C:\\Users\\Srihaasa\\Anaconda3\\lib\\site-packages\\statsmodels\\tsa\\holtwinters.py:711: ConvergenceWarning: Optimization failed to converge. Check mle_retvals.\n",
      "  ConvergenceWarning)\n",
      "C:\\Users\\Srihaasa\\Anaconda3\\lib\\site-packages\\statsmodels\\tsa\\holtwinters.py:711: ConvergenceWarning: Optimization failed to converge. Check mle_retvals.\n",
      "  ConvergenceWarning)\n",
      "C:\\Users\\Srihaasa\\Anaconda3\\lib\\site-packages\\statsmodels\\tsa\\holtwinters.py:711: ConvergenceWarning: Optimization failed to converge. Check mle_retvals.\n",
      "  ConvergenceWarning)\n",
      "C:\\Users\\Srihaasa\\Anaconda3\\lib\\site-packages\\statsmodels\\tsa\\holtwinters.py:711: ConvergenceWarning: Optimization failed to converge. Check mle_retvals.\n",
      "  ConvergenceWarning)\n",
      "C:\\Users\\Srihaasa\\Anaconda3\\lib\\site-packages\\statsmodels\\tsa\\holtwinters.py:711: ConvergenceWarning: Optimization failed to converge. Check mle_retvals.\n",
      "  ConvergenceWarning)\n",
      "C:\\Users\\Srihaasa\\Anaconda3\\lib\\site-packages\\statsmodels\\tsa\\holtwinters.py:711: ConvergenceWarning: Optimization failed to converge. Check mle_retvals.\n",
      "  ConvergenceWarning)\n",
      "C:\\Users\\Srihaasa\\Anaconda3\\lib\\site-packages\\statsmodels\\tsa\\holtwinters.py:711: ConvergenceWarning: Optimization failed to converge. Check mle_retvals.\n",
      "  ConvergenceWarning)\n",
      "C:\\Users\\Srihaasa\\Anaconda3\\lib\\site-packages\\statsmodels\\tsa\\holtwinters.py:711: ConvergenceWarning: Optimization failed to converge. Check mle_retvals.\n",
      "  ConvergenceWarning)\n",
      "C:\\Users\\Srihaasa\\Anaconda3\\lib\\site-packages\\statsmodels\\tsa\\holtwinters.py:711: ConvergenceWarning: Optimization failed to converge. Check mle_retvals.\n",
      "  ConvergenceWarning)\n",
      "C:\\Users\\Srihaasa\\Anaconda3\\lib\\site-packages\\statsmodels\\tsa\\holtwinters.py:711: ConvergenceWarning: Optimization failed to converge. Check mle_retvals.\n",
      "  ConvergenceWarning)\n",
      "C:\\Users\\Srihaasa\\Anaconda3\\lib\\site-packages\\statsmodels\\tsa\\holtwinters.py:711: ConvergenceWarning: Optimization failed to converge. Check mle_retvals.\n",
      "  ConvergenceWarning)\n",
      "C:\\Users\\Srihaasa\\Anaconda3\\lib\\site-packages\\statsmodels\\tsa\\holtwinters.py:711: ConvergenceWarning: Optimization failed to converge. Check mle_retvals.\n",
      "  ConvergenceWarning)\n",
      "C:\\Users\\Srihaasa\\Anaconda3\\lib\\site-packages\\statsmodels\\tsa\\holtwinters.py:711: ConvergenceWarning: Optimization failed to converge. Check mle_retvals.\n",
      "  ConvergenceWarning)\n",
      "C:\\Users\\Srihaasa\\Anaconda3\\lib\\site-packages\\statsmodels\\tsa\\holtwinters.py:711: ConvergenceWarning: Optimization failed to converge. Check mle_retvals.\n",
      "  ConvergenceWarning)\n",
      "C:\\Users\\Srihaasa\\Anaconda3\\lib\\site-packages\\statsmodels\\tsa\\holtwinters.py:711: ConvergenceWarning: Optimization failed to converge. Check mle_retvals.\n",
      "  ConvergenceWarning)\n",
      "C:\\Users\\Srihaasa\\Anaconda3\\lib\\site-packages\\statsmodels\\tsa\\holtwinters.py:711: ConvergenceWarning: Optimization failed to converge. Check mle_retvals.\n",
      "  ConvergenceWarning)\n",
      "C:\\Users\\Srihaasa\\Anaconda3\\lib\\site-packages\\statsmodels\\tsa\\holtwinters.py:711: ConvergenceWarning: Optimization failed to converge. Check mle_retvals.\n",
      "  ConvergenceWarning)\n",
      "C:\\Users\\Srihaasa\\Anaconda3\\lib\\site-packages\\statsmodels\\tsa\\holtwinters.py:711: ConvergenceWarning: Optimization failed to converge. Check mle_retvals.\n",
      "  ConvergenceWarning)\n",
      "C:\\Users\\Srihaasa\\Anaconda3\\lib\\site-packages\\statsmodels\\tsa\\holtwinters.py:711: ConvergenceWarning: Optimization failed to converge. Check mle_retvals.\n",
      "  ConvergenceWarning)\n",
      "C:\\Users\\Srihaasa\\Anaconda3\\lib\\site-packages\\statsmodels\\tsa\\holtwinters.py:711: ConvergenceWarning: Optimization failed to converge. Check mle_retvals.\n",
      "  ConvergenceWarning)\n",
      "C:\\Users\\Srihaasa\\Anaconda3\\lib\\site-packages\\statsmodels\\tsa\\holtwinters.py:711: ConvergenceWarning: Optimization failed to converge. Check mle_retvals.\n",
      "  ConvergenceWarning)\n",
      "C:\\Users\\Srihaasa\\Anaconda3\\lib\\site-packages\\statsmodels\\tsa\\holtwinters.py:711: ConvergenceWarning: Optimization failed to converge. Check mle_retvals.\n",
      "  ConvergenceWarning)\n",
      "C:\\Users\\Srihaasa\\Anaconda3\\lib\\site-packages\\statsmodels\\tsa\\holtwinters.py:711: ConvergenceWarning: Optimization failed to converge. Check mle_retvals.\n",
      "  ConvergenceWarning)\n",
      "C:\\Users\\Srihaasa\\Anaconda3\\lib\\site-packages\\statsmodels\\tsa\\holtwinters.py:711: ConvergenceWarning: Optimization failed to converge. Check mle_retvals.\n",
      "  ConvergenceWarning)\n",
      "C:\\Users\\Srihaasa\\Anaconda3\\lib\\site-packages\\statsmodels\\tsa\\holtwinters.py:711: ConvergenceWarning: Optimization failed to converge. Check mle_retvals.\n",
      "  ConvergenceWarning)\n",
      "C:\\Users\\Srihaasa\\Anaconda3\\lib\\site-packages\\statsmodels\\tsa\\holtwinters.py:711: ConvergenceWarning: Optimization failed to converge. Check mle_retvals.\n",
      "  ConvergenceWarning)\n",
      "C:\\Users\\Srihaasa\\Anaconda3\\lib\\site-packages\\statsmodels\\tsa\\holtwinters.py:711: ConvergenceWarning: Optimization failed to converge. Check mle_retvals.\n",
      "  ConvergenceWarning)\n",
      "C:\\Users\\Srihaasa\\Anaconda3\\lib\\site-packages\\statsmodels\\tsa\\holtwinters.py:711: ConvergenceWarning: Optimization failed to converge. Check mle_retvals.\n",
      "  ConvergenceWarning)\n",
      "C:\\Users\\Srihaasa\\Anaconda3\\lib\\site-packages\\statsmodels\\tsa\\holtwinters.py:711: ConvergenceWarning: Optimization failed to converge. Check mle_retvals.\n",
      "  ConvergenceWarning)\n",
      "C:\\Users\\Srihaasa\\Anaconda3\\lib\\site-packages\\statsmodels\\tsa\\holtwinters.py:711: ConvergenceWarning: Optimization failed to converge. Check mle_retvals.\n",
      "  ConvergenceWarning)\n",
      "C:\\Users\\Srihaasa\\Anaconda3\\lib\\site-packages\\statsmodels\\tsa\\holtwinters.py:711: ConvergenceWarning: Optimization failed to converge. Check mle_retvals.\n",
      "  ConvergenceWarning)\n",
      "C:\\Users\\Srihaasa\\Anaconda3\\lib\\site-packages\\statsmodels\\tsa\\holtwinters.py:711: ConvergenceWarning: Optimization failed to converge. Check mle_retvals.\n",
      "  ConvergenceWarning)\n",
      "C:\\Users\\Srihaasa\\Anaconda3\\lib\\site-packages\\statsmodels\\tsa\\holtwinters.py:711: ConvergenceWarning: Optimization failed to converge. Check mle_retvals.\n",
      "  ConvergenceWarning)\n",
      "C:\\Users\\Srihaasa\\Anaconda3\\lib\\site-packages\\statsmodels\\tsa\\holtwinters.py:711: ConvergenceWarning: Optimization failed to converge. Check mle_retvals.\n",
      "  ConvergenceWarning)\n",
      "C:\\Users\\Srihaasa\\Anaconda3\\lib\\site-packages\\statsmodels\\tsa\\holtwinters.py:711: ConvergenceWarning: Optimization failed to converge. Check mle_retvals.\n",
      "  ConvergenceWarning)\n",
      "C:\\Users\\Srihaasa\\Anaconda3\\lib\\site-packages\\statsmodels\\tsa\\holtwinters.py:711: ConvergenceWarning: Optimization failed to converge. Check mle_retvals.\n",
      "  ConvergenceWarning)\n",
      "C:\\Users\\Srihaasa\\Anaconda3\\lib\\site-packages\\statsmodels\\tsa\\holtwinters.py:711: ConvergenceWarning: Optimization failed to converge. Check mle_retvals.\n",
      "  ConvergenceWarning)\n"
     ]
    },
    {
     "name": "stdout",
     "output_type": "stream",
     "text": [
      "RMSE: 0.033529411764705815\n",
      "MAPE: 0.08885516390175907\n",
      "MAE: 0.0306324211712663\n",
      "           Country Name          IncomeGroup                      Region  \\\n",
      "0           Afghanistan           Low income                  South Asia   \n",
      "1                Angola  Lower middle income          Sub-Saharan Africa   \n",
      "2               Albania  Upper middle income       Europe & Central Asia   \n",
      "3  United Arab Emirates          High income  Middle East & North Africa   \n",
      "4             Argentina  Upper middle income   Latin America & Caribbean   \n",
      "\n",
      "       1991      1992      1993      1994      1995      1996      1997  ...  \\\n",
      "0  0.231623  0.232199  0.231855  0.230641  0.233024  0.231250  0.227984  ...   \n",
      "1  1.483473  1.476862  1.466940  1.471737  1.476816  1.483942  1.481946  ...   \n",
      "2  1.051762  1.054694  1.037482  1.029736  1.030518  1.024728  1.043581  ...   \n",
      "3  0.002195  0.002236  0.002284  0.002258  0.002240  0.002291  0.002309  ...   \n",
      "4  0.175008  0.437392  0.325477  0.250945  0.275114  0.122606  0.137934  ...   \n",
      "\n",
      "       2016      2017      2018      2019      2020      2021      2022  \\\n",
      "0  0.418337  0.464590  0.480696  0.489378  0.498161  0.506945  0.515728   \n",
      "1  1.238591  1.233868  1.223694  1.224858  1.227425  1.226396  1.225366   \n",
      "2  0.919701  0.896478  0.892668  0.883362  0.880052  0.881166  0.881166   \n",
      "3  0.002736  0.002738  0.002733  0.002843  0.002605  0.002684  0.002698   \n",
      "4  0.113589  0.109547  0.323473  0.269568  0.244561  0.291996  0.314970   \n",
      "\n",
      "       2023      2024      2025  \n",
      "0  0.524511  0.533295  0.542078  \n",
      "1  1.224337  1.223308  1.222278  \n",
      "2  0.881166  0.881166  0.881166  \n",
      "3  0.002713  0.002728  0.002742  \n",
      "4  0.337944  0.360918  0.383892  \n",
      "\n",
      "[5 rows x 38 columns]\n"
     ]
    },
    {
     "name": "stderr",
     "output_type": "stream",
     "text": [
      "C:\\Users\\Srihaasa\\Anaconda3\\lib\\site-packages\\statsmodels\\tsa\\holtwinters.py:711: ConvergenceWarning: Optimization failed to converge. Check mle_retvals.\n",
      "  ConvergenceWarning)\n",
      "C:\\Users\\Srihaasa\\Anaconda3\\lib\\site-packages\\statsmodels\\tsa\\holtwinters.py:711: ConvergenceWarning: Optimization failed to converge. Check mle_retvals.\n",
      "  ConvergenceWarning)\n"
     ]
    }
   ],
   "source": [
    "import os\n",
    "import numpy as np\n",
    "import pandas as pd\n",
    "import matplotlib.pyplot as plt\n",
    "from statsmodels.tsa.api import ExponentialSmoothing, SimpleExpSmoothing, Holt\n",
    "%matplotlib inline\n",
    "rmseavg=0\n",
    "MAPE=0\n",
    "MAE=0\n",
    "data_21= np.zeros(187)\n",
    "data_22= np.zeros(187)\n",
    "data_23= np.zeros(187)\n",
    "data_24= np.zeros(187)\n",
    "data_25= np.zeros(187)\n",
    "for k in range(0,187):\n",
    "    data = np.zeros(30)\n",
    "    i=0\n",
    "    for j in range(1991,2021):\n",
    "        data[i] = df_GenderAgricultureIndex[str(j)][k]\n",
    "        i = i+1\n",
    "    index= pd.date_range(start='1991', end='2021', freq='A')\n",
    "    agridata = pd.Series(data, index)\n",
    "    fit3 = ExponentialSmoothing(agridata.iloc[0:25],trend='add').fit()\n",
    "    fcast3 = fit3.forecast(5).rename(r'$\\alpha=%s$'%fit3.model.params['smoothing_level'])\n",
    "    mse1 = ((fcast3 - agridata.iloc[25:30]) ** 2).mean()\n",
    "    rmseavg+= (round(np.sqrt(mse1), 2))\n",
    "    Error = np.sum(np.abs(np.subtract(agridata.iloc[25:30],fcast3)))\n",
    "    Average = np.sum(agridata.iloc[25:30])\n",
    "    MAPE = MAPE+ (Error/Average)\n",
    "    MAE = MAE+ mean_absolute_error(agridata.iloc[25:30], fcast3)\n",
    "    fit4 = ExponentialSmoothing(agridata,trend='add').fit()\n",
    "    fcast4 = fit4.forecast(5).rename(r'$\\alpha=%s$'%fit3.model.params['smoothing_level'])\n",
    "    #print(fcast4)\n",
    "    data_21[k]= fcast4[0]\n",
    "    data_22[k]= fcast4[1]\n",
    "    data_23[k]= fcast4[2]\n",
    "    data_24[k]= fcast4[3]\n",
    "    data_25[k]= fcast4[4]\n",
    "print('RMSE: '+ str(rmseavg/187))\n",
    "print('MAPE: '+ str(MAPE/187))\n",
    "print('MAE: '+ str(MAE/187))\n",
    "df_GenderAgricultureIndex['2021']= data_21\n",
    "df_GenderAgricultureIndex['2022']= data_22\n",
    "df_GenderAgricultureIndex['2023']= data_23\n",
    "df_GenderAgricultureIndex['2024']= data_24\n",
    "df_GenderAgricultureIndex['2025']= data_25\n",
    "print(df_GenderAgricultureIndex.head())"
   ]
  },
  {
   "cell_type": "code",
   "execution_count": 6,
   "metadata": {},
   "outputs": [
    {
     "name": "stderr",
     "output_type": "stream",
     "text": [
      "C:\\Users\\Srihaasa\\Anaconda3\\lib\\site-packages\\statsmodels\\tsa\\holtwinters.py:711: ConvergenceWarning: Optimization failed to converge. Check mle_retvals.\n",
      "  ConvergenceWarning)\n",
      "C:\\Users\\Srihaasa\\Anaconda3\\lib\\site-packages\\statsmodels\\tsa\\holtwinters.py:711: ConvergenceWarning: Optimization failed to converge. Check mle_retvals.\n",
      "  ConvergenceWarning)\n",
      "C:\\Users\\Srihaasa\\Anaconda3\\lib\\site-packages\\statsmodels\\tsa\\holtwinters.py:711: ConvergenceWarning: Optimization failed to converge. Check mle_retvals.\n",
      "  ConvergenceWarning)\n",
      "C:\\Users\\Srihaasa\\Anaconda3\\lib\\site-packages\\statsmodels\\tsa\\holtwinters.py:711: ConvergenceWarning: Optimization failed to converge. Check mle_retvals.\n",
      "  ConvergenceWarning)\n",
      "C:\\Users\\Srihaasa\\Anaconda3\\lib\\site-packages\\statsmodels\\tsa\\holtwinters.py:711: ConvergenceWarning: Optimization failed to converge. Check mle_retvals.\n",
      "  ConvergenceWarning)\n",
      "C:\\Users\\Srihaasa\\Anaconda3\\lib\\site-packages\\statsmodels\\tsa\\holtwinters.py:711: ConvergenceWarning: Optimization failed to converge. Check mle_retvals.\n",
      "  ConvergenceWarning)\n",
      "C:\\Users\\Srihaasa\\Anaconda3\\lib\\site-packages\\statsmodels\\tsa\\holtwinters.py:711: ConvergenceWarning: Optimization failed to converge. Check mle_retvals.\n",
      "  ConvergenceWarning)\n",
      "C:\\Users\\Srihaasa\\Anaconda3\\lib\\site-packages\\statsmodels\\tsa\\holtwinters.py:711: ConvergenceWarning: Optimization failed to converge. Check mle_retvals.\n",
      "  ConvergenceWarning)\n",
      "C:\\Users\\Srihaasa\\Anaconda3\\lib\\site-packages\\statsmodels\\tsa\\holtwinters.py:711: ConvergenceWarning: Optimization failed to converge. Check mle_retvals.\n",
      "  ConvergenceWarning)\n",
      "C:\\Users\\Srihaasa\\Anaconda3\\lib\\site-packages\\statsmodels\\tsa\\holtwinters.py:711: ConvergenceWarning: Optimization failed to converge. Check mle_retvals.\n",
      "  ConvergenceWarning)\n",
      "C:\\Users\\Srihaasa\\Anaconda3\\lib\\site-packages\\statsmodels\\tsa\\holtwinters.py:711: ConvergenceWarning: Optimization failed to converge. Check mle_retvals.\n",
      "  ConvergenceWarning)\n",
      "C:\\Users\\Srihaasa\\Anaconda3\\lib\\site-packages\\statsmodels\\tsa\\holtwinters.py:711: ConvergenceWarning: Optimization failed to converge. Check mle_retvals.\n",
      "  ConvergenceWarning)\n",
      "C:\\Users\\Srihaasa\\Anaconda3\\lib\\site-packages\\statsmodels\\tsa\\holtwinters.py:711: ConvergenceWarning: Optimization failed to converge. Check mle_retvals.\n",
      "  ConvergenceWarning)\n",
      "C:\\Users\\Srihaasa\\Anaconda3\\lib\\site-packages\\statsmodels\\tsa\\holtwinters.py:711: ConvergenceWarning: Optimization failed to converge. Check mle_retvals.\n",
      "  ConvergenceWarning)\n",
      "C:\\Users\\Srihaasa\\Anaconda3\\lib\\site-packages\\statsmodels\\tsa\\holtwinters.py:711: ConvergenceWarning: Optimization failed to converge. Check mle_retvals.\n",
      "  ConvergenceWarning)\n",
      "C:\\Users\\Srihaasa\\Anaconda3\\lib\\site-packages\\statsmodels\\tsa\\holtwinters.py:711: ConvergenceWarning: Optimization failed to converge. Check mle_retvals.\n",
      "  ConvergenceWarning)\n",
      "C:\\Users\\Srihaasa\\Anaconda3\\lib\\site-packages\\statsmodels\\tsa\\holtwinters.py:711: ConvergenceWarning: Optimization failed to converge. Check mle_retvals.\n",
      "  ConvergenceWarning)\n",
      "C:\\Users\\Srihaasa\\Anaconda3\\lib\\site-packages\\statsmodels\\tsa\\holtwinters.py:711: ConvergenceWarning: Optimization failed to converge. Check mle_retvals.\n",
      "  ConvergenceWarning)\n",
      "C:\\Users\\Srihaasa\\Anaconda3\\lib\\site-packages\\statsmodels\\tsa\\holtwinters.py:711: ConvergenceWarning: Optimization failed to converge. Check mle_retvals.\n",
      "  ConvergenceWarning)\n",
      "C:\\Users\\Srihaasa\\Anaconda3\\lib\\site-packages\\statsmodels\\tsa\\holtwinters.py:711: ConvergenceWarning: Optimization failed to converge. Check mle_retvals.\n",
      "  ConvergenceWarning)\n",
      "C:\\Users\\Srihaasa\\Anaconda3\\lib\\site-packages\\statsmodels\\tsa\\holtwinters.py:711: ConvergenceWarning: Optimization failed to converge. Check mle_retvals.\n",
      "  ConvergenceWarning)\n",
      "C:\\Users\\Srihaasa\\Anaconda3\\lib\\site-packages\\statsmodels\\tsa\\holtwinters.py:711: ConvergenceWarning: Optimization failed to converge. Check mle_retvals.\n",
      "  ConvergenceWarning)\n",
      "C:\\Users\\Srihaasa\\Anaconda3\\lib\\site-packages\\statsmodels\\tsa\\holtwinters.py:711: ConvergenceWarning: Optimization failed to converge. Check mle_retvals.\n",
      "  ConvergenceWarning)\n",
      "C:\\Users\\Srihaasa\\Anaconda3\\lib\\site-packages\\statsmodels\\tsa\\holtwinters.py:711: ConvergenceWarning: Optimization failed to converge. Check mle_retvals.\n",
      "  ConvergenceWarning)\n",
      "C:\\Users\\Srihaasa\\Anaconda3\\lib\\site-packages\\statsmodels\\tsa\\holtwinters.py:711: ConvergenceWarning: Optimization failed to converge. Check mle_retvals.\n",
      "  ConvergenceWarning)\n",
      "C:\\Users\\Srihaasa\\Anaconda3\\lib\\site-packages\\statsmodels\\tsa\\holtwinters.py:711: ConvergenceWarning: Optimization failed to converge. Check mle_retvals.\n",
      "  ConvergenceWarning)\n"
     ]
    },
    {
     "name": "stdout",
     "output_type": "stream",
     "text": [
      "RMSE: 0.023529411764705827\n",
      "MAPE: 0.0683907090317672\n",
      "MAE: 0.021734222968867196\n",
      "           Country Name          IncomeGroup                      Region  \\\n",
      "0           Afghanistan           Low income                  South Asia   \n",
      "1                Angola  Lower middle income          Sub-Saharan Africa   \n",
      "2               Albania  Upper middle income       Europe & Central Asia   \n",
      "3  United Arab Emirates          High income  Middle East & North Africa   \n",
      "4             Argentina  Upper middle income   Latin America & Caribbean   \n",
      "\n",
      "       1991      1992      1993      1994      1995      1996      1997  ...  \\\n",
      "0  0.236316  0.235417  0.234872  0.233596  0.225315  0.221824  0.217420  ...   \n",
      "1  0.120134  0.119183  0.118281  0.116742  0.116433  0.115937  0.116437  ...   \n",
      "2  0.349225  0.341447  0.330148  0.323784  0.312014  0.316821  0.310923  ...   \n",
      "3  0.130004  0.130938  0.131903  0.130817  0.128280  0.130428  0.131853  ...   \n",
      "4  0.292219  0.285097  0.255119  0.236742  0.257812  0.233427  0.208105  ...   \n",
      "\n",
      "       2016      2017      2018      2019      2020      2021      2022  \\\n",
      "0  0.361410  0.397398  0.410050  0.416329  0.421013  0.425697  0.430381   \n",
      "1  0.070003  0.069473  0.069668  0.070045  0.070381  0.070643  0.070906   \n",
      "2  0.474813  0.498966  0.511347  0.512002  0.512294  0.524490  0.536686   \n",
      "3  0.076985  0.074506  0.072997  0.072675  0.072297  0.071919  0.071541   \n",
      "4  0.176745  0.190493  0.198563  0.196307  0.194560  0.193694  0.192828   \n",
      "\n",
      "       2023      2024      2025  \n",
      "0  0.435065  0.439748  0.444432  \n",
      "1  0.071169  0.071431  0.071694  \n",
      "2  0.548883  0.561079  0.573275  \n",
      "3  0.071163  0.070785  0.070408  \n",
      "4  0.191963  0.191097  0.190232  \n",
      "\n",
      "[5 rows x 38 columns]\n"
     ]
    }
   ],
   "source": [
    "rmseavg=0\n",
    "MAPE=0\n",
    "MAE=0\n",
    "data_21= np.zeros(187)\n",
    "data_22= np.zeros(187)\n",
    "data_23= np.zeros(187)\n",
    "data_24= np.zeros(187)\n",
    "data_25= np.zeros(187)\n",
    "for k in range(0,187):\n",
    "    data = np.zeros(30)\n",
    "    i=0\n",
    "    for j in range(1991,2021):\n",
    "        data[i] = df_GenderIndustryIndex[str(j)][k]\n",
    "        i = i+1\n",
    "    index= pd.date_range(start='1991', end='2021', freq='A')\n",
    "    industrydata = pd.Series(data, index)\n",
    "    fit3 = ExponentialSmoothing(industrydata.iloc[0:25],trend='add').fit()\n",
    "    fcast3 = fit3.forecast(5).rename(r'$\\alpha=%s$'%fit3.model.params['smoothing_level'])\n",
    "    mse1 = ((fcast3 - industrydata.iloc[25:30]) ** 2).mean()\n",
    "    rmseavg+= (round(np.sqrt(mse1), 2))\n",
    "    Error = np.sum(np.abs(np.subtract(industrydata.iloc[25:30],fcast3)))\n",
    "    Average = np.sum(industrydata.iloc[25:30])\n",
    "    MAPE = MAPE+ (Error/Average)\n",
    "    MAE = MAE+ mean_absolute_error(industrydata.iloc[25:30], fcast3)\n",
    "    fit4 = ExponentialSmoothing(industrydata,trend='add').fit()\n",
    "    fcast4 = fit4.forecast(5).rename(r'$\\alpha=%s$'%fit3.model.params['smoothing_level'])\n",
    "    #print(fcast4)\n",
    "    data_21[k]= fcast4[0]\n",
    "    data_22[k]= fcast4[1]\n",
    "    data_23[k]= fcast4[2]\n",
    "    data_24[k]= fcast4[3]\n",
    "    data_25[k]= fcast4[4]\n",
    "print('RMSE: '+ str(rmseavg/187))\n",
    "print('MAPE: '+ str(MAPE/187))\n",
    "print('MAE: '+ str(MAE/187))\n",
    "df_GenderIndustryIndex['2021']= data_21\n",
    "df_GenderIndustryIndex['2022']= data_22\n",
    "df_GenderIndustryIndex['2023']= data_23\n",
    "df_GenderIndustryIndex['2024']= data_24\n",
    "df_GenderIndustryIndex['2025']= data_25\n",
    "print(df_GenderIndustryIndex.head())"
   ]
  },
  {
   "cell_type": "code",
   "execution_count": 7,
   "metadata": {},
   "outputs": [
    {
     "name": "stderr",
     "output_type": "stream",
     "text": [
      "C:\\Users\\Srihaasa\\Anaconda3\\lib\\site-packages\\statsmodels\\tsa\\holtwinters.py:711: ConvergenceWarning: Optimization failed to converge. Check mle_retvals.\n",
      "  ConvergenceWarning)\n",
      "C:\\Users\\Srihaasa\\Anaconda3\\lib\\site-packages\\statsmodels\\tsa\\holtwinters.py:711: ConvergenceWarning: Optimization failed to converge. Check mle_retvals.\n",
      "  ConvergenceWarning)\n",
      "C:\\Users\\Srihaasa\\Anaconda3\\lib\\site-packages\\statsmodels\\tsa\\holtwinters.py:711: ConvergenceWarning: Optimization failed to converge. Check mle_retvals.\n",
      "  ConvergenceWarning)\n",
      "C:\\Users\\Srihaasa\\Anaconda3\\lib\\site-packages\\statsmodels\\tsa\\holtwinters.py:711: ConvergenceWarning: Optimization failed to converge. Check mle_retvals.\n",
      "  ConvergenceWarning)\n",
      "C:\\Users\\Srihaasa\\Anaconda3\\lib\\site-packages\\statsmodels\\tsa\\holtwinters.py:711: ConvergenceWarning: Optimization failed to converge. Check mle_retvals.\n",
      "  ConvergenceWarning)\n",
      "C:\\Users\\Srihaasa\\Anaconda3\\lib\\site-packages\\statsmodels\\tsa\\holtwinters.py:711: ConvergenceWarning: Optimization failed to converge. Check mle_retvals.\n",
      "  ConvergenceWarning)\n",
      "C:\\Users\\Srihaasa\\Anaconda3\\lib\\site-packages\\statsmodels\\tsa\\holtwinters.py:711: ConvergenceWarning: Optimization failed to converge. Check mle_retvals.\n",
      "  ConvergenceWarning)\n",
      "C:\\Users\\Srihaasa\\Anaconda3\\lib\\site-packages\\statsmodels\\tsa\\holtwinters.py:711: ConvergenceWarning: Optimization failed to converge. Check mle_retvals.\n",
      "  ConvergenceWarning)\n",
      "C:\\Users\\Srihaasa\\Anaconda3\\lib\\site-packages\\statsmodels\\tsa\\holtwinters.py:711: ConvergenceWarning: Optimization failed to converge. Check mle_retvals.\n",
      "  ConvergenceWarning)\n",
      "C:\\Users\\Srihaasa\\Anaconda3\\lib\\site-packages\\statsmodels\\tsa\\holtwinters.py:711: ConvergenceWarning: Optimization failed to converge. Check mle_retvals.\n",
      "  ConvergenceWarning)\n",
      "C:\\Users\\Srihaasa\\Anaconda3\\lib\\site-packages\\statsmodels\\tsa\\holtwinters.py:711: ConvergenceWarning: Optimization failed to converge. Check mle_retvals.\n",
      "  ConvergenceWarning)\n",
      "C:\\Users\\Srihaasa\\Anaconda3\\lib\\site-packages\\statsmodels\\tsa\\holtwinters.py:711: ConvergenceWarning: Optimization failed to converge. Check mle_retvals.\n",
      "  ConvergenceWarning)\n",
      "C:\\Users\\Srihaasa\\Anaconda3\\lib\\site-packages\\statsmodels\\tsa\\holtwinters.py:711: ConvergenceWarning: Optimization failed to converge. Check mle_retvals.\n",
      "  ConvergenceWarning)\n",
      "C:\\Users\\Srihaasa\\Anaconda3\\lib\\site-packages\\statsmodels\\tsa\\holtwinters.py:711: ConvergenceWarning: Optimization failed to converge. Check mle_retvals.\n",
      "  ConvergenceWarning)\n",
      "C:\\Users\\Srihaasa\\Anaconda3\\lib\\site-packages\\statsmodels\\tsa\\holtwinters.py:711: ConvergenceWarning: Optimization failed to converge. Check mle_retvals.\n",
      "  ConvergenceWarning)\n",
      "C:\\Users\\Srihaasa\\Anaconda3\\lib\\site-packages\\statsmodels\\tsa\\holtwinters.py:711: ConvergenceWarning: Optimization failed to converge. Check mle_retvals.\n",
      "  ConvergenceWarning)\n",
      "C:\\Users\\Srihaasa\\Anaconda3\\lib\\site-packages\\statsmodels\\tsa\\holtwinters.py:711: ConvergenceWarning: Optimization failed to converge. Check mle_retvals.\n",
      "  ConvergenceWarning)\n",
      "C:\\Users\\Srihaasa\\Anaconda3\\lib\\site-packages\\statsmodels\\tsa\\holtwinters.py:711: ConvergenceWarning: Optimization failed to converge. Check mle_retvals.\n",
      "  ConvergenceWarning)\n",
      "C:\\Users\\Srihaasa\\Anaconda3\\lib\\site-packages\\statsmodels\\tsa\\holtwinters.py:711: ConvergenceWarning: Optimization failed to converge. Check mle_retvals.\n",
      "  ConvergenceWarning)\n",
      "C:\\Users\\Srihaasa\\Anaconda3\\lib\\site-packages\\statsmodels\\tsa\\holtwinters.py:711: ConvergenceWarning: Optimization failed to converge. Check mle_retvals.\n",
      "  ConvergenceWarning)\n",
      "C:\\Users\\Srihaasa\\Anaconda3\\lib\\site-packages\\statsmodels\\tsa\\holtwinters.py:711: ConvergenceWarning: Optimization failed to converge. Check mle_retvals.\n",
      "  ConvergenceWarning)\n",
      "C:\\Users\\Srihaasa\\Anaconda3\\lib\\site-packages\\statsmodels\\tsa\\holtwinters.py:711: ConvergenceWarning: Optimization failed to converge. Check mle_retvals.\n",
      "  ConvergenceWarning)\n",
      "C:\\Users\\Srihaasa\\Anaconda3\\lib\\site-packages\\statsmodels\\tsa\\holtwinters.py:711: ConvergenceWarning: Optimization failed to converge. Check mle_retvals.\n",
      "  ConvergenceWarning)\n",
      "C:\\Users\\Srihaasa\\Anaconda3\\lib\\site-packages\\statsmodels\\tsa\\holtwinters.py:711: ConvergenceWarning: Optimization failed to converge. Check mle_retvals.\n",
      "  ConvergenceWarning)\n",
      "C:\\Users\\Srihaasa\\Anaconda3\\lib\\site-packages\\statsmodels\\tsa\\holtwinters.py:711: ConvergenceWarning: Optimization failed to converge. Check mle_retvals.\n",
      "  ConvergenceWarning)\n",
      "C:\\Users\\Srihaasa\\Anaconda3\\lib\\site-packages\\statsmodels\\tsa\\holtwinters.py:711: ConvergenceWarning: Optimization failed to converge. Check mle_retvals.\n",
      "  ConvergenceWarning)\n",
      "C:\\Users\\Srihaasa\\Anaconda3\\lib\\site-packages\\statsmodels\\tsa\\holtwinters.py:711: ConvergenceWarning: Optimization failed to converge. Check mle_retvals.\n",
      "  ConvergenceWarning)\n",
      "C:\\Users\\Srihaasa\\Anaconda3\\lib\\site-packages\\statsmodels\\tsa\\holtwinters.py:711: ConvergenceWarning: Optimization failed to converge. Check mle_retvals.\n",
      "  ConvergenceWarning)\n",
      "C:\\Users\\Srihaasa\\Anaconda3\\lib\\site-packages\\statsmodels\\tsa\\holtwinters.py:711: ConvergenceWarning: Optimization failed to converge. Check mle_retvals.\n",
      "  ConvergenceWarning)\n",
      "C:\\Users\\Srihaasa\\Anaconda3\\lib\\site-packages\\statsmodels\\tsa\\holtwinters.py:711: ConvergenceWarning: Optimization failed to converge. Check mle_retvals.\n",
      "  ConvergenceWarning)\n",
      "C:\\Users\\Srihaasa\\Anaconda3\\lib\\site-packages\\statsmodels\\tsa\\holtwinters.py:711: ConvergenceWarning: Optimization failed to converge. Check mle_retvals.\n",
      "  ConvergenceWarning)\n",
      "C:\\Users\\Srihaasa\\Anaconda3\\lib\\site-packages\\statsmodels\\tsa\\holtwinters.py:711: ConvergenceWarning: Optimization failed to converge. Check mle_retvals.\n",
      "  ConvergenceWarning)\n",
      "C:\\Users\\Srihaasa\\Anaconda3\\lib\\site-packages\\statsmodels\\tsa\\holtwinters.py:711: ConvergenceWarning: Optimization failed to converge. Check mle_retvals.\n",
      "  ConvergenceWarning)\n",
      "C:\\Users\\Srihaasa\\Anaconda3\\lib\\site-packages\\statsmodels\\tsa\\holtwinters.py:711: ConvergenceWarning: Optimization failed to converge. Check mle_retvals.\n",
      "  ConvergenceWarning)\n",
      "C:\\Users\\Srihaasa\\Anaconda3\\lib\\site-packages\\statsmodels\\tsa\\holtwinters.py:711: ConvergenceWarning: Optimization failed to converge. Check mle_retvals.\n",
      "  ConvergenceWarning)\n",
      "C:\\Users\\Srihaasa\\Anaconda3\\lib\\site-packages\\statsmodels\\tsa\\holtwinters.py:711: ConvergenceWarning: Optimization failed to converge. Check mle_retvals.\n",
      "  ConvergenceWarning)\n"
     ]
    },
    {
     "name": "stdout",
     "output_type": "stream",
     "text": [
      "RMSE: 0.029037433155080138\n",
      "MAPE: 0.03307640355354005\n",
      "MAE: 0.026221340753484035\n",
      "           Country Name          IncomeGroup                      Region  \\\n",
      "0           Afghanistan           Low income                  South Asia   \n",
      "1                Angola  Lower middle income          Sub-Saharan Africa   \n",
      "2               Albania  Upper middle income       Europe & Central Asia   \n",
      "3  United Arab Emirates          High income  Middle East & North Africa   \n",
      "4             Argentina  Upper middle income   Latin America & Caribbean   \n",
      "\n",
      "       1991      1992      1993      1994      1995      1996      1997  ...  \\\n",
      "0  0.058587  0.059405  0.060032  0.060638  0.061228  0.060934  0.060209  ...   \n",
      "1  0.910595  0.907094  0.901224  0.893557  0.901133  0.907514  0.921324  ...   \n",
      "2  0.593987  0.597561  0.593492  0.593984  0.581557  0.560335  0.566217  ...   \n",
      "3  0.493786  0.507388  0.522924  0.526718  0.531010  0.541130  0.552347  ...   \n",
      "4  0.831269  0.850851  0.825826  0.852266  0.783872  0.829182  0.860666  ...   \n",
      "\n",
      "       2016      2017      2018      2019      2020      2021      2022  \\\n",
      "0  0.055251  0.056587  0.058801  0.060036  0.061337  0.062610  0.063878   \n",
      "1  0.992808  0.993844  1.002245  1.013119  1.022347  1.024292  1.028173   \n",
      "2  0.705250  0.735275  0.736147  0.734255  0.737028  0.760656  0.771595   \n",
      "3  0.875370  0.865983  0.872108  0.871727  0.870562  0.869651  0.868739   \n",
      "4  0.890147  0.888504  0.901041  0.898345  0.894813  0.900259  0.902474   \n",
      "\n",
      "       2023      2024      2025  \n",
      "0  0.065145  0.066412  0.067680  \n",
      "1  1.032055  1.035937  1.039818  \n",
      "2  0.782534  0.793473  0.804412  \n",
      "3  0.867827  0.866915  0.866003  \n",
      "4  0.904689  0.906905  0.909120  \n",
      "\n",
      "[5 rows x 38 columns]\n"
     ]
    }
   ],
   "source": [
    "rmseavg=0\n",
    "MAPE=0\n",
    "MAE=0\n",
    "data_21= np.zeros(187)\n",
    "data_22= np.zeros(187)\n",
    "data_23= np.zeros(187)\n",
    "data_24= np.zeros(187)\n",
    "data_25= np.zeros(187)\n",
    "for k in range(0,187):\n",
    "    data = np.zeros(30)\n",
    "    i=0\n",
    "    for j in range(1991,2021):\n",
    "        data[i] = df_GenderServicesIndex[str(j)][k]\n",
    "        i = i+1\n",
    "    index= pd.date_range(start='1991', end='2021', freq='A')\n",
    "    servicesdata = pd.Series(data, index)\n",
    "    fit3 = ExponentialSmoothing(servicesdata.iloc[0:25],trend='add').fit()\n",
    "    fcast3 = fit3.forecast(5).rename(r'$\\alpha=%s$'%fit3.model.params['smoothing_level'])\n",
    "    mse1 = ((fcast3 - servicesdata.iloc[25:30]) ** 2).mean()\n",
    "    rmseavg+= (round(np.sqrt(mse1), 2))\n",
    "    Error = np.sum(np.abs(np.subtract(servicesdata.iloc[25:30],fcast3)))\n",
    "    Average = np.sum(servicesdata.iloc[25:30])\n",
    "    MAPE = MAPE+ (Error/Average)\n",
    "    MAE = MAE+ mean_absolute_error(servicesdata.iloc[25:30], fcast3)\n",
    "    fit4 = ExponentialSmoothing(servicesdata,trend='add').fit()\n",
    "    fcast4 = fit4.forecast(5).rename(r'$\\alpha=%s$'%fit3.model.params['smoothing_level'])\n",
    "    #print(fcast4)\n",
    "    data_21[k]= fcast4[0]\n",
    "    data_22[k]= fcast4[1]\n",
    "    data_23[k]= fcast4[2]\n",
    "    data_24[k]= fcast4[3]\n",
    "    data_25[k]= fcast4[4]\n",
    "print('RMSE: '+ str(rmseavg/187))\n",
    "print('MAPE: '+ str(MAPE/187))\n",
    "print('MAE: '+ str(MAE/187))\n",
    "df_GenderServicesIndex['2021']= data_21\n",
    "df_GenderServicesIndex['2022']= data_22\n",
    "df_GenderServicesIndex['2023']= data_23\n",
    "df_GenderServicesIndex['2024']= data_24\n",
    "df_GenderServicesIndex['2025']= data_25\n",
    "print(df_GenderServicesIndex.head())"
   ]
  },
  {
   "cell_type": "code",
   "execution_count": 8,
   "metadata": {},
   "outputs": [
    {
     "name": "stdout",
     "output_type": "stream",
     "text": [
      "           Country Name Country Code          IncomeGroup  \\\n",
      "0           Afghanistan          AFG           Low income   \n",
      "1                Angola          AGO  Lower middle income   \n",
      "2               Albania          ALB  Upper middle income   \n",
      "3  United Arab Emirates          ARE          High income   \n",
      "4             Argentina          ARG  Upper middle income   \n",
      "\n",
      "                       Region      1991      1992      1993      1994  \\\n",
      "0                  South Asia  0.175509  0.175674  0.175586  0.174958   \n",
      "1          Sub-Saharan Africa  0.838068  0.834380  0.828815  0.827345   \n",
      "2       Europe & Central Asia  0.664991  0.664567  0.653707  0.649168   \n",
      "3  Middle East & North Africa  0.208662  0.213521  0.219037  0.219931   \n",
      "4   Latin America & Caribbean  0.432832  0.524447  0.468807  0.446651   \n",
      "\n",
      "       1995      1996  ...      2016      2017      2018      2019      2020  \\\n",
      "0  0.173189  0.171336  ...  0.278332  0.306192  0.316516  0.321914  0.326837   \n",
      "1  0.831461  0.835798  ...  0.767134  0.765728  0.765202  0.769341  0.773384   \n",
      "2  0.641363  0.633962  ...  0.699921  0.710240  0.713387  0.709873  0.709791   \n",
      "3  0.220510  0.224616  ...  0.318364  0.314409  0.315946  0.315748  0.315155   \n",
      "4  0.438933  0.395072  ...  0.393494  0.396181  0.474359  0.454740  0.444644   \n",
      "\n",
      "       2021      2022      2023      2024      2025  \n",
      "0  0.331751  0.336662  0.341574  0.346485  0.351397  \n",
      "1  0.773777  0.774815  0.775854  0.776892  0.777930  \n",
      "2  0.722104  0.729816  0.737528  0.745239  0.752951  \n",
      "3  0.314751  0.314326  0.313901  0.313476  0.313051  \n",
      "4  0.461983  0.470091  0.478199  0.486307  0.494414  \n",
      "\n",
      "[5 rows x 39 columns]\n"
     ]
    }
   ],
   "source": [
    "data_21= np.zeros(187)\n",
    "data_22= np.zeros(187)\n",
    "data_23= np.zeros(187)\n",
    "data_24= np.zeros(187)\n",
    "data_25= np.zeros(187)\n",
    "for k in range(0,187):\n",
    "    data_21[k]= (df_GenderAgricultureIndex['2021'][k]+ df_GenderIndustryIndex['2021'][k]+ df_GenderServicesIndex['2021'][k])/3\n",
    "    data_22[k]= (df_GenderAgricultureIndex['2022'][k]+ df_GenderIndustryIndex['2022'][k]+ df_GenderServicesIndex['2022'][k])/3\n",
    "    data_23[k]= (df_GenderAgricultureIndex['2023'][k]+ df_GenderIndustryIndex['2023'][k]+ df_GenderServicesIndex['2023'][k])/3\n",
    "    data_24[k]= (df_GenderAgricultureIndex['2024'][k]+ df_GenderIndustryIndex['2024'][k]+ df_GenderServicesIndex['2024'][k])/3\n",
    "    data_25[k]= (df_GenderAgricultureIndex['2025'][k]+ df_GenderIndustryIndex['2025'][k]+ df_GenderServicesIndex['2025'][k])/3\n",
    "df_GenderEmploymentIndex['2021']= data_21\n",
    "df_GenderEmploymentIndex['2022']= data_22\n",
    "df_GenderEmploymentIndex['2023']= data_23\n",
    "df_GenderEmploymentIndex['2024']= data_24\n",
    "df_GenderEmploymentIndex['2025']= data_25\n",
    "print(df_GenderEmploymentIndex.head())    "
   ]
  },
  {
   "cell_type": "code",
   "execution_count": 9,
   "metadata": {},
   "outputs": [],
   "source": [
    "df_GenderEmploymentIndex['pre5yearaverage'] = df_GenderEmploymentIndex[['2016','2017','2018','2019','2020']].mean(axis=1)\n",
    "df_GenderEmploymentIndex['post5yearaverage'] = df_GenderEmploymentIndex[['2021','2022','2023','2024','2025']].mean(axis=1)\n"
   ]
  },
  {
   "cell_type": "code",
   "execution_count": 12,
   "metadata": {},
   "outputs": [
    {
     "data": {
      "application/vnd.plotly.v1+json": {
       "config": {
        "plotlyServerURL": "https://plot.ly"
       },
       "data": [
        {
         "autocolorscale": false,
         "colorbar": {
          "tickprefix": "",
          "title": {
           "text": "GEPI"
          }
         },
         "colorscale": [
          [
           0,
           "rgb(247,251,255)"
          ],
          [
           0.125,
           "rgb(222,235,247)"
          ],
          [
           0.25,
           "rgb(198,219,239)"
          ],
          [
           0.375,
           "rgb(158,202,225)"
          ],
          [
           0.5,
           "rgb(107,174,214)"
          ],
          [
           0.625,
           "rgb(66,146,198)"
          ],
          [
           0.75,
           "rgb(33,113,181)"
          ],
          [
           0.875,
           "rgb(8,81,156)"
          ],
          [
           1,
           "rgb(8,48,107)"
          ]
         ],
         "locations": [
          "AFG",
          "AGO",
          "ALB",
          "ARE",
          "ARG",
          "ARM",
          "AUS",
          "AUT",
          "AZE",
          "BDI",
          "BEL",
          "BEN",
          "BFA",
          "BGD",
          "BGR",
          "BHR",
          "BHS",
          "BIH",
          "BLR",
          "BLZ",
          "BOL",
          "BRA",
          "BRB",
          "BRN",
          "BTN",
          "BWA",
          "CAF",
          "CAN",
          "CHE",
          "CHI",
          "CHL",
          "CHN",
          "CIV",
          "CMR",
          "COD",
          "COG",
          "COL",
          "COM",
          "CPV",
          "CRI",
          "CUB",
          "CYP",
          "CZE",
          "DEU",
          "DJI",
          "DNK",
          "DOM",
          "DZA",
          "ECU",
          "EGY",
          "ERI",
          "ESP",
          "EST",
          "ETH",
          "FIN",
          "FJI",
          "FRA",
          "GAB",
          "GBR",
          "GEO",
          "GHA",
          "GIN",
          "GMB",
          "GNB",
          "GNQ",
          "GRC",
          "GTM",
          "GUM",
          "GUY",
          "HKG",
          "HND",
          "HRV",
          "HTI",
          "HUN",
          "IDN",
          "IND",
          "IRL",
          "IRN",
          "IRQ",
          "ISL",
          "ISR",
          "ITA",
          "JAM",
          "JOR",
          "JPN",
          "KAZ",
          "KEN",
          "KGZ",
          "KHM",
          "KOR",
          "KWT",
          "LAO",
          "LBN",
          "LBR",
          "LBY",
          "LCA",
          "LKA",
          "LSO",
          "LTU",
          "LUX",
          "LVA",
          "MAC",
          "MAR",
          "MDA",
          "MDG",
          "MDV",
          "MEX",
          "MKD",
          "MLI",
          "MLT",
          "MMR",
          "MNE",
          "MNG",
          "MOZ",
          "MRT",
          "MUS",
          "MWI",
          "MYS",
          "NAM",
          "NCL",
          "NER",
          "NGA",
          "NIC",
          "NLD",
          "NOR",
          "NPL",
          "NZL",
          "OMN",
          "PAK",
          "PAN",
          "PER",
          "PHL",
          "PNG",
          "POL",
          "PRI",
          "PRK",
          "PRT",
          "PRY",
          "PSE",
          "PYF",
          "QAT",
          "ROU",
          "RUS",
          "RWA",
          "SAU",
          "SDN",
          "SEN",
          "SGP",
          "SLB",
          "SLE",
          "SLV",
          "SOM",
          "SRB",
          "SSD",
          "STP",
          "SUR",
          "SVK",
          "SVN",
          "SWE",
          "SWZ",
          "SYR",
          "TCD",
          "TGO",
          "THA",
          "TJK",
          "TKM",
          "TLS",
          "TON",
          "TTO",
          "TUN",
          "TUR",
          "TZA",
          "UGA",
          "UKR",
          "URY",
          "USA",
          "UZB",
          "VCT",
          "VEN",
          "VIR",
          "VNM",
          "VUT",
          "WSM",
          "YEM",
          "ZAF",
          "ZMB",
          "ZWE"
         ],
         "marker": {
          "line": {
           "color": "darkgray",
           "width": 0.5
          }
         },
         "reversescale": false,
         "text": [
          "Afghanistan",
          "Angola",
          "Albania",
          "United Arab Emirates",
          "Argentina",
          "Armenia",
          "Australia",
          "Austria",
          "Azerbaijan",
          "Burundi",
          "Belgium",
          "Benin",
          "Burkina Faso",
          "Bangladesh",
          "Bulgaria",
          "Bahrain",
          "Bahamas, The",
          "Bosnia and Herzegovina",
          "Belarus",
          "Belize",
          "Bolivia",
          "Brazil",
          "Barbados",
          "Brunei Darussalam",
          "Bhutan",
          "Botswana",
          "Central African Republic",
          "Canada",
          "Switzerland",
          "Channel Islands",
          "Chile",
          "China",
          "Côte d'Ivoire",
          "Cameroon",
          "Congo, Dem. Rep.",
          "Congo, Rep.",
          "Colombia",
          "Comoros",
          "Cabo Verde",
          "Costa Rica",
          "Cuba",
          "Cyprus",
          "Czech Republic",
          "Germany",
          "Djibouti",
          "Denmark",
          "Dominican Republic",
          "Algeria",
          "Ecuador",
          "Egypt, Arab Rep.",
          "Eritrea",
          "Spain",
          "Estonia",
          "Ethiopia",
          "Finland",
          "Fiji",
          "France",
          "Gabon",
          "United Kingdom",
          "Georgia",
          "Ghana",
          "Guinea",
          "Gambia, The",
          "Guinea-Bissau",
          "Equatorial Guinea",
          "Greece",
          "Guatemala",
          "Guam",
          "Guyana",
          "Hong Kong SAR, China",
          "Honduras",
          "Croatia",
          "Haiti",
          "Hungary",
          "Indonesia",
          "India",
          "Ireland",
          "Iran, Islamic Rep.",
          "Iraq",
          "Iceland",
          "Israel",
          "Italy",
          "Jamaica",
          "Jordan",
          "Japan",
          "Kazakhstan",
          "Kenya",
          "Kyrgyz Republic",
          "Cambodia",
          "Korea, Rep.",
          "Kuwait",
          "Lao PDR",
          "Lebanon",
          "Liberia",
          "Libya",
          "St. Lucia",
          "Sri Lanka",
          "Lesotho",
          "Lithuania",
          "Luxembourg",
          "Latvia",
          "Macao SAR, China",
          "Morocco",
          "Moldova",
          "Madagascar",
          "Maldives",
          "Mexico",
          "North Macedonia",
          "Mali",
          "Malta",
          "Myanmar",
          "Montenegro",
          "Mongolia",
          "Mozambique",
          "Mauritania",
          "Mauritius",
          "Malawi",
          "Malaysia",
          "Namibia",
          "New Caledonia",
          "Niger",
          "Nigeria",
          "Nicaragua",
          "Netherlands",
          "Norway",
          "Nepal",
          "New Zealand",
          "Oman",
          "Pakistan",
          "Panama",
          "Peru",
          "Philippines",
          "Papua New Guinea",
          "Poland",
          "Puerto Rico",
          "Korea, Dem. People's Rep.",
          "Portugal",
          "Paraguay",
          "West Bank and Gaza",
          "French Polynesia",
          "Qatar",
          "Romania",
          "Russian Federation",
          "Rwanda",
          "Saudi Arabia",
          "Sudan",
          "Senegal",
          "Singapore",
          "Solomon Islands",
          "Sierra Leone",
          "El Salvador",
          "Somalia",
          "Serbia",
          "South Sudan",
          "São Tomé and Principe",
          "Suriname",
          "Slovak Republic",
          "Slovenia",
          "Sweden",
          "Eswatini",
          "Syrian Arab Republic",
          "Chad",
          "Togo",
          "Thailand",
          "Tajikistan",
          "Turkmenistan",
          "Timor-Leste",
          "Tonga",
          "Trinidad and Tobago",
          "Tunisia",
          "Turkey",
          "Tanzania",
          "Uganda",
          "Ukraine",
          "Uruguay",
          "United States",
          "Uzbekistan",
          "St. Vincent and the Grenadines",
          "Venezuela, RB",
          "Virgin Islands (U.S.)",
          "Vietnam",
          "Vanuatu",
          "Samoa",
          "Yemen, Rep.",
          "South Africa",
          "Zambia",
          "Zimbabwe"
         ],
         "type": "choropleth",
         "z": [
          0.34157359311863517,
          0.7758535203478882,
          0.7375275123562193,
          0.3139010607074369,
          0.4781987056402303,
          0.656333400547029,
          0.6059456188052466,
          0.7075795088270092,
          0.8425401764993838,
          0.564289760388249,
          0.5902726672146948,
          0.9669675627502732,
          0.7064156897376076,
          0.5070374703382786,
          0.6431263954662387,
          0.3008944896967678,
          0.4206250653792544,
          0.5788139171632123,
          0.7103482182964646,
          0.4361081858053213,
          0.7237825239312453,
          0.4844961304644045,
          0.6174573638112298,
          0.49200793983598823,
          0.7656257324987934,
          0.6795350359935961,
          0.6309282488840805,
          0.6123154264832162,
          0.6723725165195182,
          0.5455522452242753,
          0.5235527028212502,
          0.7620684695605802,
          0.7050471162891973,
          0.809202581017936,
          0.7471544658405382,
          0.9236317942940596,
          0.5389070538685798,
          0.6727551949221052,
          0.6371138433746564,
          0.42957745041692,
          0.4551770460197675,
          0.4884652827010666,
          0.645069540792284,
          0.6429533021569421,
          0.6403709738397008,
          0.5513565881947247,
          0.42111408890162727,
          0.14837600506790777,
          0.6101505892298738,
          0.2837995034780059,
          0.7014724260934947,
          0.522211772878541,
          0.5986966319160786,
          1.0362486929177241,
          0.6216541145823956,
          0.4484551159201632,
          0.5807133933668142,
          0.5948711234610944,
          0.5577917641312126,
          0.6492221223009165,
          0.8588352168075426,
          0.8814071137131212,
          0.6677379612087189,
          0.7208926797961193,
          0.76484629524144,
          0.5550607854426428,
          0.449931594210886,
          0.36592181884644176,
          0.5063112596862478,
          0.518574716731874,
          0.6007618177618496,
          0.652476125480592,
          0.5972045428164598,
          0.5928419593833865,
          0.6199293729026356,
          0.2548803392765665,
          0.5149693336462666,
          0.21708480938150423,
          0.10809132551259837,
          0.5652115163155595,
          0.5650378668816626,
          0.5088657270552552,
          0.5786203497825898,
          0.13603109308254185,
          0.6245097995617592,
          0.7025337336911245,
          0.7453190245706363,
          0.5350327265848055,
          0.8558466563681584,
          0.6326456051164195,
          0.2770086977332225,
          0.8852913607307956,
          0.28160306826545883,
          0.7723266358090698,
          0.42967701241655726,
          0.6150401553016503,
          0.46715519159686,
          0.6444187852420766,
          0.6545072003095693,
          0.5105273164416076,
          0.710741011628014,
          0.41555997864284244,
          0.3133903568770518,
          0.8387544254855331,
          0.9918727601032306,
          0.3657554477296395,
          0.4394782581677319,
          0.6288170645236298,
          0.669668350125509,
          0.43001442365238934,
          0.6092114284194025,
          0.622151793472493,
          0.7324530317890836,
          0.7246930606842499,
          0.42271915122900816,
          0.5099424307971148,
          0.8048904293499486,
          0.5380260849479833,
          0.7770989406283977,
          0.5062871013167654,
          1.0851610949640382,
          0.8173079789603543,
          0.5894751285156627,
          0.5574327320710977,
          0.5811651695342083,
          0.824150300484144,
          0.6213163012334905,
          0.1755595877070262,
          0.30016594542201214,
          0.5015803262466995,
          0.7279628602002844,
          0.5159021089602938,
          0.802342130289013,
          0.6839068179486415,
          0.4008205825155294,
          0.7314613095123514,
          0.624979090570674,
          0.5654508380834965,
          0.18441483453410284,
          0.4978828971602797,
          0.5535031415306711,
          0.6764355719721452,
          0.6189969308974378,
          0.811196920724961,
          0.12231706203765198,
          0.33070238684313497,
          0.4879752194753643,
          0.5317202418154128,
          0.7980368113821918,
          0.8522855487096532,
          0.48729061369019,
          0.22661777884819956,
          0.6585169756103667,
          0.8497661793543285,
          0.3570177667950472,
          0.418723010443932,
          0.6082573594227731,
          0.768632193120505,
          0.5839394516695944,
          0.7340544919079279,
          0.12064009312409622,
          0.6897815979189514,
          0.9583199357899987,
          0.7530433745003997,
          0.5772646127061851,
          0.6828413378921679,
          0.7606140370367104,
          0.8532795491482617,
          0.49893763835494404,
          0.2806285015164759,
          0.5162461374964193,
          0.750431747781968,
          0.7191227780019823,
          0.6508034000801426,
          0.48895681353006815,
          0.5452126837169005,
          0.6798832293874856,
          0.5280771043841913,
          0.3657058772399246,
          0.5685455283577657,
          0.8837309775482399,
          0.6327141243405995,
          0.6156220707820241,
          0.07592610532496293,
          0.5911757002518979,
          0.7638482309212729,
          0.6937171932020905
         ]
        }
       ],
       "layout": {
        "geo": {
         "projection": {
          "type": "equirectangular"
         },
         "showcoastlines": false,
         "showframe": false
        },
        "template": {
         "data": {
          "bar": [
           {
            "error_x": {
             "color": "#2a3f5f"
            },
            "error_y": {
             "color": "#2a3f5f"
            },
            "marker": {
             "line": {
              "color": "#E5ECF6",
              "width": 0.5
             }
            },
            "type": "bar"
           }
          ],
          "barpolar": [
           {
            "marker": {
             "line": {
              "color": "#E5ECF6",
              "width": 0.5
             }
            },
            "type": "barpolar"
           }
          ],
          "carpet": [
           {
            "aaxis": {
             "endlinecolor": "#2a3f5f",
             "gridcolor": "white",
             "linecolor": "white",
             "minorgridcolor": "white",
             "startlinecolor": "#2a3f5f"
            },
            "baxis": {
             "endlinecolor": "#2a3f5f",
             "gridcolor": "white",
             "linecolor": "white",
             "minorgridcolor": "white",
             "startlinecolor": "#2a3f5f"
            },
            "type": "carpet"
           }
          ],
          "choropleth": [
           {
            "colorbar": {
             "outlinewidth": 0,
             "ticks": ""
            },
            "type": "choropleth"
           }
          ],
          "contour": [
           {
            "colorbar": {
             "outlinewidth": 0,
             "ticks": ""
            },
            "colorscale": [
             [
              0,
              "#0d0887"
             ],
             [
              0.1111111111111111,
              "#46039f"
             ],
             [
              0.2222222222222222,
              "#7201a8"
             ],
             [
              0.3333333333333333,
              "#9c179e"
             ],
             [
              0.4444444444444444,
              "#bd3786"
             ],
             [
              0.5555555555555556,
              "#d8576b"
             ],
             [
              0.6666666666666666,
              "#ed7953"
             ],
             [
              0.7777777777777778,
              "#fb9f3a"
             ],
             [
              0.8888888888888888,
              "#fdca26"
             ],
             [
              1,
              "#f0f921"
             ]
            ],
            "type": "contour"
           }
          ],
          "contourcarpet": [
           {
            "colorbar": {
             "outlinewidth": 0,
             "ticks": ""
            },
            "type": "contourcarpet"
           }
          ],
          "heatmap": [
           {
            "colorbar": {
             "outlinewidth": 0,
             "ticks": ""
            },
            "colorscale": [
             [
              0,
              "#0d0887"
             ],
             [
              0.1111111111111111,
              "#46039f"
             ],
             [
              0.2222222222222222,
              "#7201a8"
             ],
             [
              0.3333333333333333,
              "#9c179e"
             ],
             [
              0.4444444444444444,
              "#bd3786"
             ],
             [
              0.5555555555555556,
              "#d8576b"
             ],
             [
              0.6666666666666666,
              "#ed7953"
             ],
             [
              0.7777777777777778,
              "#fb9f3a"
             ],
             [
              0.8888888888888888,
              "#fdca26"
             ],
             [
              1,
              "#f0f921"
             ]
            ],
            "type": "heatmap"
           }
          ],
          "heatmapgl": [
           {
            "colorbar": {
             "outlinewidth": 0,
             "ticks": ""
            },
            "colorscale": [
             [
              0,
              "#0d0887"
             ],
             [
              0.1111111111111111,
              "#46039f"
             ],
             [
              0.2222222222222222,
              "#7201a8"
             ],
             [
              0.3333333333333333,
              "#9c179e"
             ],
             [
              0.4444444444444444,
              "#bd3786"
             ],
             [
              0.5555555555555556,
              "#d8576b"
             ],
             [
              0.6666666666666666,
              "#ed7953"
             ],
             [
              0.7777777777777778,
              "#fb9f3a"
             ],
             [
              0.8888888888888888,
              "#fdca26"
             ],
             [
              1,
              "#f0f921"
             ]
            ],
            "type": "heatmapgl"
           }
          ],
          "histogram": [
           {
            "marker": {
             "colorbar": {
              "outlinewidth": 0,
              "ticks": ""
             }
            },
            "type": "histogram"
           }
          ],
          "histogram2d": [
           {
            "colorbar": {
             "outlinewidth": 0,
             "ticks": ""
            },
            "colorscale": [
             [
              0,
              "#0d0887"
             ],
             [
              0.1111111111111111,
              "#46039f"
             ],
             [
              0.2222222222222222,
              "#7201a8"
             ],
             [
              0.3333333333333333,
              "#9c179e"
             ],
             [
              0.4444444444444444,
              "#bd3786"
             ],
             [
              0.5555555555555556,
              "#d8576b"
             ],
             [
              0.6666666666666666,
              "#ed7953"
             ],
             [
              0.7777777777777778,
              "#fb9f3a"
             ],
             [
              0.8888888888888888,
              "#fdca26"
             ],
             [
              1,
              "#f0f921"
             ]
            ],
            "type": "histogram2d"
           }
          ],
          "histogram2dcontour": [
           {
            "colorbar": {
             "outlinewidth": 0,
             "ticks": ""
            },
            "colorscale": [
             [
              0,
              "#0d0887"
             ],
             [
              0.1111111111111111,
              "#46039f"
             ],
             [
              0.2222222222222222,
              "#7201a8"
             ],
             [
              0.3333333333333333,
              "#9c179e"
             ],
             [
              0.4444444444444444,
              "#bd3786"
             ],
             [
              0.5555555555555556,
              "#d8576b"
             ],
             [
              0.6666666666666666,
              "#ed7953"
             ],
             [
              0.7777777777777778,
              "#fb9f3a"
             ],
             [
              0.8888888888888888,
              "#fdca26"
             ],
             [
              1,
              "#f0f921"
             ]
            ],
            "type": "histogram2dcontour"
           }
          ],
          "mesh3d": [
           {
            "colorbar": {
             "outlinewidth": 0,
             "ticks": ""
            },
            "type": "mesh3d"
           }
          ],
          "parcoords": [
           {
            "line": {
             "colorbar": {
              "outlinewidth": 0,
              "ticks": ""
             }
            },
            "type": "parcoords"
           }
          ],
          "pie": [
           {
            "automargin": true,
            "type": "pie"
           }
          ],
          "scatter": [
           {
            "marker": {
             "colorbar": {
              "outlinewidth": 0,
              "ticks": ""
             }
            },
            "type": "scatter"
           }
          ],
          "scatter3d": [
           {
            "line": {
             "colorbar": {
              "outlinewidth": 0,
              "ticks": ""
             }
            },
            "marker": {
             "colorbar": {
              "outlinewidth": 0,
              "ticks": ""
             }
            },
            "type": "scatter3d"
           }
          ],
          "scattercarpet": [
           {
            "marker": {
             "colorbar": {
              "outlinewidth": 0,
              "ticks": ""
             }
            },
            "type": "scattercarpet"
           }
          ],
          "scattergeo": [
           {
            "marker": {
             "colorbar": {
              "outlinewidth": 0,
              "ticks": ""
             }
            },
            "type": "scattergeo"
           }
          ],
          "scattergl": [
           {
            "marker": {
             "colorbar": {
              "outlinewidth": 0,
              "ticks": ""
             }
            },
            "type": "scattergl"
           }
          ],
          "scattermapbox": [
           {
            "marker": {
             "colorbar": {
              "outlinewidth": 0,
              "ticks": ""
             }
            },
            "type": "scattermapbox"
           }
          ],
          "scatterpolar": [
           {
            "marker": {
             "colorbar": {
              "outlinewidth": 0,
              "ticks": ""
             }
            },
            "type": "scatterpolar"
           }
          ],
          "scatterpolargl": [
           {
            "marker": {
             "colorbar": {
              "outlinewidth": 0,
              "ticks": ""
             }
            },
            "type": "scatterpolargl"
           }
          ],
          "scatterternary": [
           {
            "marker": {
             "colorbar": {
              "outlinewidth": 0,
              "ticks": ""
             }
            },
            "type": "scatterternary"
           }
          ],
          "surface": [
           {
            "colorbar": {
             "outlinewidth": 0,
             "ticks": ""
            },
            "colorscale": [
             [
              0,
              "#0d0887"
             ],
             [
              0.1111111111111111,
              "#46039f"
             ],
             [
              0.2222222222222222,
              "#7201a8"
             ],
             [
              0.3333333333333333,
              "#9c179e"
             ],
             [
              0.4444444444444444,
              "#bd3786"
             ],
             [
              0.5555555555555556,
              "#d8576b"
             ],
             [
              0.6666666666666666,
              "#ed7953"
             ],
             [
              0.7777777777777778,
              "#fb9f3a"
             ],
             [
              0.8888888888888888,
              "#fdca26"
             ],
             [
              1,
              "#f0f921"
             ]
            ],
            "type": "surface"
           }
          ],
          "table": [
           {
            "cells": {
             "fill": {
              "color": "#EBF0F8"
             },
             "line": {
              "color": "white"
             }
            },
            "header": {
             "fill": {
              "color": "#C8D4E3"
             },
             "line": {
              "color": "white"
             }
            },
            "type": "table"
           }
          ]
         },
         "layout": {
          "annotationdefaults": {
           "arrowcolor": "#2a3f5f",
           "arrowhead": 0,
           "arrowwidth": 1
          },
          "coloraxis": {
           "colorbar": {
            "outlinewidth": 0,
            "ticks": ""
           }
          },
          "colorscale": {
           "diverging": [
            [
             0,
             "#8e0152"
            ],
            [
             0.1,
             "#c51b7d"
            ],
            [
             0.2,
             "#de77ae"
            ],
            [
             0.3,
             "#f1b6da"
            ],
            [
             0.4,
             "#fde0ef"
            ],
            [
             0.5,
             "#f7f7f7"
            ],
            [
             0.6,
             "#e6f5d0"
            ],
            [
             0.7,
             "#b8e186"
            ],
            [
             0.8,
             "#7fbc41"
            ],
            [
             0.9,
             "#4d9221"
            ],
            [
             1,
             "#276419"
            ]
           ],
           "sequential": [
            [
             0,
             "#0d0887"
            ],
            [
             0.1111111111111111,
             "#46039f"
            ],
            [
             0.2222222222222222,
             "#7201a8"
            ],
            [
             0.3333333333333333,
             "#9c179e"
            ],
            [
             0.4444444444444444,
             "#bd3786"
            ],
            [
             0.5555555555555556,
             "#d8576b"
            ],
            [
             0.6666666666666666,
             "#ed7953"
            ],
            [
             0.7777777777777778,
             "#fb9f3a"
            ],
            [
             0.8888888888888888,
             "#fdca26"
            ],
            [
             1,
             "#f0f921"
            ]
           ],
           "sequentialminus": [
            [
             0,
             "#0d0887"
            ],
            [
             0.1111111111111111,
             "#46039f"
            ],
            [
             0.2222222222222222,
             "#7201a8"
            ],
            [
             0.3333333333333333,
             "#9c179e"
            ],
            [
             0.4444444444444444,
             "#bd3786"
            ],
            [
             0.5555555555555556,
             "#d8576b"
            ],
            [
             0.6666666666666666,
             "#ed7953"
            ],
            [
             0.7777777777777778,
             "#fb9f3a"
            ],
            [
             0.8888888888888888,
             "#fdca26"
            ],
            [
             1,
             "#f0f921"
            ]
           ]
          },
          "colorway": [
           "#636efa",
           "#EF553B",
           "#00cc96",
           "#ab63fa",
           "#FFA15A",
           "#19d3f3",
           "#FF6692",
           "#B6E880",
           "#FF97FF",
           "#FECB52"
          ],
          "font": {
           "color": "#2a3f5f"
          },
          "geo": {
           "bgcolor": "white",
           "lakecolor": "white",
           "landcolor": "#E5ECF6",
           "showlakes": true,
           "showland": true,
           "subunitcolor": "white"
          },
          "hoverlabel": {
           "align": "left"
          },
          "hovermode": "closest",
          "mapbox": {
           "style": "light"
          },
          "paper_bgcolor": "white",
          "plot_bgcolor": "#E5ECF6",
          "polar": {
           "angularaxis": {
            "gridcolor": "white",
            "linecolor": "white",
            "ticks": ""
           },
           "bgcolor": "#E5ECF6",
           "radialaxis": {
            "gridcolor": "white",
            "linecolor": "white",
            "ticks": ""
           }
          },
          "scene": {
           "xaxis": {
            "backgroundcolor": "#E5ECF6",
            "gridcolor": "white",
            "gridwidth": 2,
            "linecolor": "white",
            "showbackground": true,
            "ticks": "",
            "zerolinecolor": "white"
           },
           "yaxis": {
            "backgroundcolor": "#E5ECF6",
            "gridcolor": "white",
            "gridwidth": 2,
            "linecolor": "white",
            "showbackground": true,
            "ticks": "",
            "zerolinecolor": "white"
           },
           "zaxis": {
            "backgroundcolor": "#E5ECF6",
            "gridcolor": "white",
            "gridwidth": 2,
            "linecolor": "white",
            "showbackground": true,
            "ticks": "",
            "zerolinecolor": "white"
           }
          },
          "shapedefaults": {
           "line": {
            "color": "#2a3f5f"
           }
          },
          "ternary": {
           "aaxis": {
            "gridcolor": "white",
            "linecolor": "white",
            "ticks": ""
           },
           "baxis": {
            "gridcolor": "white",
            "linecolor": "white",
            "ticks": ""
           },
           "bgcolor": "#E5ECF6",
           "caxis": {
            "gridcolor": "white",
            "linecolor": "white",
            "ticks": ""
           }
          },
          "title": {
           "x": 0.05
          },
          "xaxis": {
           "automargin": true,
           "gridcolor": "white",
           "linecolor": "white",
           "ticks": "",
           "title": {
            "standoff": 15
           },
           "zerolinecolor": "white",
           "zerolinewidth": 2
          },
          "yaxis": {
           "automargin": true,
           "gridcolor": "white",
           "linecolor": "white",
           "ticks": "",
           "title": {
            "standoff": 15
           },
           "zerolinecolor": "white",
           "zerolinewidth": 2
          }
         }
        },
        "title": {
         "text": "Average forecasted GEPI from 2021 to 2025- Double Exponential Smoothing"
        }
       }
      },
      "text/html": [
       "<div>\n",
       "        \n",
       "        \n",
       "            <div id=\"7bef4a15-27a6-4ba4-900d-925840eae36d\" class=\"plotly-graph-div\" style=\"height:525px; width:100%;\"></div>\n",
       "            <script type=\"text/javascript\">\n",
       "                require([\"plotly\"], function(Plotly) {\n",
       "                    window.PLOTLYENV=window.PLOTLYENV || {};\n",
       "                    \n",
       "                if (document.getElementById(\"7bef4a15-27a6-4ba4-900d-925840eae36d\")) {\n",
       "                    Plotly.newPlot(\n",
       "                        '7bef4a15-27a6-4ba4-900d-925840eae36d',\n",
       "                        [{\"autocolorscale\": false, \"colorbar\": {\"tickprefix\": \"\", \"title\": {\"text\": \"GEPI\"}}, \"colorscale\": [[0.0, \"rgb(247,251,255)\"], [0.125, \"rgb(222,235,247)\"], [0.25, \"rgb(198,219,239)\"], [0.375, \"rgb(158,202,225)\"], [0.5, \"rgb(107,174,214)\"], [0.625, \"rgb(66,146,198)\"], [0.75, \"rgb(33,113,181)\"], [0.875, \"rgb(8,81,156)\"], [1.0, \"rgb(8,48,107)\"]], \"locations\": [\"AFG\", \"AGO\", \"ALB\", \"ARE\", \"ARG\", \"ARM\", \"AUS\", \"AUT\", \"AZE\", \"BDI\", \"BEL\", \"BEN\", \"BFA\", \"BGD\", \"BGR\", \"BHR\", \"BHS\", \"BIH\", \"BLR\", \"BLZ\", \"BOL\", \"BRA\", \"BRB\", \"BRN\", \"BTN\", \"BWA\", \"CAF\", \"CAN\", \"CHE\", \"CHI\", \"CHL\", \"CHN\", \"CIV\", \"CMR\", \"COD\", \"COG\", \"COL\", \"COM\", \"CPV\", \"CRI\", \"CUB\", \"CYP\", \"CZE\", \"DEU\", \"DJI\", \"DNK\", \"DOM\", \"DZA\", \"ECU\", \"EGY\", \"ERI\", \"ESP\", \"EST\", \"ETH\", \"FIN\", \"FJI\", \"FRA\", \"GAB\", \"GBR\", \"GEO\", \"GHA\", \"GIN\", \"GMB\", \"GNB\", \"GNQ\", \"GRC\", \"GTM\", \"GUM\", \"GUY\", \"HKG\", \"HND\", \"HRV\", \"HTI\", \"HUN\", \"IDN\", \"IND\", \"IRL\", \"IRN\", \"IRQ\", \"ISL\", \"ISR\", \"ITA\", \"JAM\", \"JOR\", \"JPN\", \"KAZ\", \"KEN\", \"KGZ\", \"KHM\", \"KOR\", \"KWT\", \"LAO\", \"LBN\", \"LBR\", \"LBY\", \"LCA\", \"LKA\", \"LSO\", \"LTU\", \"LUX\", \"LVA\", \"MAC\", \"MAR\", \"MDA\", \"MDG\", \"MDV\", \"MEX\", \"MKD\", \"MLI\", \"MLT\", \"MMR\", \"MNE\", \"MNG\", \"MOZ\", \"MRT\", \"MUS\", \"MWI\", \"MYS\", \"NAM\", \"NCL\", \"NER\", \"NGA\", \"NIC\", \"NLD\", \"NOR\", \"NPL\", \"NZL\", \"OMN\", \"PAK\", \"PAN\", \"PER\", \"PHL\", \"PNG\", \"POL\", \"PRI\", \"PRK\", \"PRT\", \"PRY\", \"PSE\", \"PYF\", \"QAT\", \"ROU\", \"RUS\", \"RWA\", \"SAU\", \"SDN\", \"SEN\", \"SGP\", \"SLB\", \"SLE\", \"SLV\", \"SOM\", \"SRB\", \"SSD\", \"STP\", \"SUR\", \"SVK\", \"SVN\", \"SWE\", \"SWZ\", \"SYR\", \"TCD\", \"TGO\", \"THA\", \"TJK\", \"TKM\", \"TLS\", \"TON\", \"TTO\", \"TUN\", \"TUR\", \"TZA\", \"UGA\", \"UKR\", \"URY\", \"USA\", \"UZB\", \"VCT\", \"VEN\", \"VIR\", \"VNM\", \"VUT\", \"WSM\", \"YEM\", \"ZAF\", \"ZMB\", \"ZWE\"], \"marker\": {\"line\": {\"color\": \"darkgray\", \"width\": 0.5}}, \"reversescale\": false, \"text\": [\"Afghanistan\", \"Angola\", \"Albania\", \"United Arab Emirates\", \"Argentina\", \"Armenia\", \"Australia\", \"Austria\", \"Azerbaijan\", \"Burundi\", \"Belgium\", \"Benin\", \"Burkina Faso\", \"Bangladesh\", \"Bulgaria\", \"Bahrain\", \"Bahamas, The\", \"Bosnia and Herzegovina\", \"Belarus\", \"Belize\", \"Bolivia\", \"Brazil\", \"Barbados\", \"Brunei Darussalam\", \"Bhutan\", \"Botswana\", \"Central African Republic\", \"Canada\", \"Switzerland\", \"Channel Islands\", \"Chile\", \"China\", \"C\\u00f4te d'Ivoire\", \"Cameroon\", \"Congo, Dem. Rep.\", \"Congo, Rep.\", \"Colombia\", \"Comoros\", \"Cabo Verde\", \"Costa Rica\", \"Cuba\", \"Cyprus\", \"Czech Republic\", \"Germany\", \"Djibouti\", \"Denmark\", \"Dominican Republic\", \"Algeria\", \"Ecuador\", \"Egypt, Arab Rep.\", \"Eritrea\", \"Spain\", \"Estonia\", \"Ethiopia\", \"Finland\", \"Fiji\", \"France\", \"Gabon\", \"United Kingdom\", \"Georgia\", \"Ghana\", \"Guinea\", \"Gambia, The\", \"Guinea-Bissau\", \"Equatorial Guinea\", \"Greece\", \"Guatemala\", \"Guam\", \"Guyana\", \"Hong Kong SAR, China\", \"Honduras\", \"Croatia\", \"Haiti\", \"Hungary\", \"Indonesia\", \"India\", \"Ireland\", \"Iran, Islamic Rep.\", \"Iraq\", \"Iceland\", \"Israel\", \"Italy\", \"Jamaica\", \"Jordan\", \"Japan\", \"Kazakhstan\", \"Kenya\", \"Kyrgyz Republic\", \"Cambodia\", \"Korea, Rep.\", \"Kuwait\", \"Lao PDR\", \"Lebanon\", \"Liberia\", \"Libya\", \"St. Lucia\", \"Sri Lanka\", \"Lesotho\", \"Lithuania\", \"Luxembourg\", \"Latvia\", \"Macao SAR, China\", \"Morocco\", \"Moldova\", \"Madagascar\", \"Maldives\", \"Mexico\", \"North Macedonia\", \"Mali\", \"Malta\", \"Myanmar\", \"Montenegro\", \"Mongolia\", \"Mozambique\", \"Mauritania\", \"Mauritius\", \"Malawi\", \"Malaysia\", \"Namibia\", \"New Caledonia\", \"Niger\", \"Nigeria\", \"Nicaragua\", \"Netherlands\", \"Norway\", \"Nepal\", \"New Zealand\", \"Oman\", \"Pakistan\", \"Panama\", \"Peru\", \"Philippines\", \"Papua New Guinea\", \"Poland\", \"Puerto Rico\", \"Korea, Dem. People's Rep.\", \"Portugal\", \"Paraguay\", \"West Bank and Gaza\", \"French Polynesia\", \"Qatar\", \"Romania\", \"Russian Federation\", \"Rwanda\", \"Saudi Arabia\", \"Sudan\", \"Senegal\", \"Singapore\", \"Solomon Islands\", \"Sierra Leone\", \"El Salvador\", \"Somalia\", \"Serbia\", \"South Sudan\", \"S\\u00e3o Tom\\u00e9 and Principe\", \"Suriname\", \"Slovak Republic\", \"Slovenia\", \"Sweden\", \"Eswatini\", \"Syrian Arab Republic\", \"Chad\", \"Togo\", \"Thailand\", \"Tajikistan\", \"Turkmenistan\", \"Timor-Leste\", \"Tonga\", \"Trinidad and Tobago\", \"Tunisia\", \"Turkey\", \"Tanzania\", \"Uganda\", \"Ukraine\", \"Uruguay\", \"United States\", \"Uzbekistan\", \"St. Vincent and the Grenadines\", \"Venezuela, RB\", \"Virgin Islands (U.S.)\", \"Vietnam\", \"Vanuatu\", \"Samoa\", \"Yemen, Rep.\", \"South Africa\", \"Zambia\", \"Zimbabwe\"], \"type\": \"choropleth\", \"z\": [0.34157359311863517, 0.7758535203478882, 0.7375275123562193, 0.3139010607074369, 0.4781987056402303, 0.656333400547029, 0.6059456188052466, 0.7075795088270092, 0.8425401764993838, 0.564289760388249, 0.5902726672146948, 0.9669675627502732, 0.7064156897376076, 0.5070374703382786, 0.6431263954662387, 0.3008944896967678, 0.4206250653792544, 0.5788139171632123, 0.7103482182964646, 0.4361081858053213, 0.7237825239312453, 0.4844961304644045, 0.6174573638112298, 0.49200793983598823, 0.7656257324987934, 0.6795350359935961, 0.6309282488840805, 0.6123154264832162, 0.6723725165195182, 0.5455522452242753, 0.5235527028212502, 0.7620684695605802, 0.7050471162891973, 0.809202581017936, 0.7471544658405382, 0.9236317942940596, 0.5389070538685798, 0.6727551949221052, 0.6371138433746564, 0.42957745041692, 0.4551770460197675, 0.4884652827010666, 0.645069540792284, 0.6429533021569421, 0.6403709738397008, 0.5513565881947247, 0.42111408890162727, 0.14837600506790777, 0.6101505892298738, 0.2837995034780059, 0.7014724260934947, 0.522211772878541, 0.5986966319160786, 1.0362486929177241, 0.6216541145823956, 0.4484551159201632, 0.5807133933668142, 0.5948711234610944, 0.5577917641312126, 0.6492221223009165, 0.8588352168075426, 0.8814071137131212, 0.6677379612087189, 0.7208926797961193, 0.76484629524144, 0.5550607854426428, 0.449931594210886, 0.36592181884644176, 0.5063112596862478, 0.518574716731874, 0.6007618177618496, 0.652476125480592, 0.5972045428164598, 0.5928419593833865, 0.6199293729026356, 0.2548803392765665, 0.5149693336462666, 0.21708480938150423, 0.10809132551259837, 0.5652115163155595, 0.5650378668816626, 0.5088657270552552, 0.5786203497825898, 0.13603109308254185, 0.6245097995617592, 0.7025337336911245, 0.7453190245706363, 0.5350327265848055, 0.8558466563681584, 0.6326456051164195, 0.2770086977332225, 0.8852913607307956, 0.28160306826545883, 0.7723266358090698, 0.42967701241655726, 0.6150401553016503, 0.46715519159686, 0.6444187852420766, 0.6545072003095693, 0.5105273164416076, 0.710741011628014, 0.41555997864284244, 0.3133903568770518, 0.8387544254855331, 0.9918727601032306, 0.3657554477296395, 0.4394782581677319, 0.6288170645236298, 0.669668350125509, 0.43001442365238934, 0.6092114284194025, 0.622151793472493, 0.7324530317890836, 0.7246930606842499, 0.42271915122900816, 0.5099424307971148, 0.8048904293499486, 0.5380260849479833, 0.7770989406283977, 0.5062871013167654, 1.0851610949640382, 0.8173079789603543, 0.5894751285156627, 0.5574327320710977, 0.5811651695342083, 0.824150300484144, 0.6213163012334905, 0.1755595877070262, 0.30016594542201214, 0.5015803262466995, 0.7279628602002844, 0.5159021089602938, 0.802342130289013, 0.6839068179486415, 0.4008205825155294, 0.7314613095123514, 0.624979090570674, 0.5654508380834965, 0.18441483453410284, 0.4978828971602797, 0.5535031415306711, 0.6764355719721452, 0.6189969308974378, 0.811196920724961, 0.12231706203765198, 0.33070238684313497, 0.4879752194753643, 0.5317202418154128, 0.7980368113821918, 0.8522855487096532, 0.48729061369019, 0.22661777884819956, 0.6585169756103667, 0.8497661793543285, 0.3570177667950472, 0.418723010443932, 0.6082573594227731, 0.768632193120505, 0.5839394516695944, 0.7340544919079279, 0.12064009312409622, 0.6897815979189514, 0.9583199357899987, 0.7530433745003997, 0.5772646127061851, 0.6828413378921679, 0.7606140370367104, 0.8532795491482617, 0.49893763835494404, 0.2806285015164759, 0.5162461374964193, 0.750431747781968, 0.7191227780019823, 0.6508034000801426, 0.48895681353006815, 0.5452126837169005, 0.6798832293874856, 0.5280771043841913, 0.3657058772399246, 0.5685455283577657, 0.8837309775482399, 0.6327141243405995, 0.6156220707820241, 0.07592610532496293, 0.5911757002518979, 0.7638482309212729, 0.6937171932020905]}],\n",
       "                        {\"geo\": {\"projection\": {\"type\": \"equirectangular\"}, \"showcoastlines\": false, \"showframe\": false}, \"template\": {\"data\": {\"bar\": [{\"error_x\": {\"color\": \"#2a3f5f\"}, \"error_y\": {\"color\": \"#2a3f5f\"}, \"marker\": {\"line\": {\"color\": \"#E5ECF6\", \"width\": 0.5}}, \"type\": \"bar\"}], \"barpolar\": [{\"marker\": {\"line\": {\"color\": \"#E5ECF6\", \"width\": 0.5}}, \"type\": \"barpolar\"}], \"carpet\": [{\"aaxis\": {\"endlinecolor\": \"#2a3f5f\", \"gridcolor\": \"white\", \"linecolor\": \"white\", \"minorgridcolor\": \"white\", \"startlinecolor\": \"#2a3f5f\"}, \"baxis\": {\"endlinecolor\": \"#2a3f5f\", \"gridcolor\": \"white\", \"linecolor\": \"white\", \"minorgridcolor\": \"white\", \"startlinecolor\": \"#2a3f5f\"}, \"type\": \"carpet\"}], \"choropleth\": [{\"colorbar\": {\"outlinewidth\": 0, \"ticks\": \"\"}, \"type\": \"choropleth\"}], \"contour\": [{\"colorbar\": {\"outlinewidth\": 0, \"ticks\": \"\"}, \"colorscale\": [[0.0, \"#0d0887\"], [0.1111111111111111, \"#46039f\"], [0.2222222222222222, \"#7201a8\"], [0.3333333333333333, \"#9c179e\"], [0.4444444444444444, \"#bd3786\"], [0.5555555555555556, \"#d8576b\"], [0.6666666666666666, \"#ed7953\"], [0.7777777777777778, \"#fb9f3a\"], [0.8888888888888888, \"#fdca26\"], [1.0, \"#f0f921\"]], \"type\": \"contour\"}], \"contourcarpet\": [{\"colorbar\": {\"outlinewidth\": 0, \"ticks\": \"\"}, \"type\": \"contourcarpet\"}], \"heatmap\": [{\"colorbar\": {\"outlinewidth\": 0, \"ticks\": \"\"}, \"colorscale\": [[0.0, \"#0d0887\"], [0.1111111111111111, \"#46039f\"], [0.2222222222222222, \"#7201a8\"], [0.3333333333333333, \"#9c179e\"], [0.4444444444444444, \"#bd3786\"], [0.5555555555555556, \"#d8576b\"], [0.6666666666666666, \"#ed7953\"], [0.7777777777777778, \"#fb9f3a\"], [0.8888888888888888, \"#fdca26\"], [1.0, \"#f0f921\"]], \"type\": \"heatmap\"}], \"heatmapgl\": [{\"colorbar\": {\"outlinewidth\": 0, \"ticks\": \"\"}, \"colorscale\": [[0.0, \"#0d0887\"], [0.1111111111111111, \"#46039f\"], [0.2222222222222222, \"#7201a8\"], [0.3333333333333333, \"#9c179e\"], [0.4444444444444444, \"#bd3786\"], [0.5555555555555556, \"#d8576b\"], [0.6666666666666666, \"#ed7953\"], [0.7777777777777778, \"#fb9f3a\"], [0.8888888888888888, \"#fdca26\"], [1.0, \"#f0f921\"]], \"type\": \"heatmapgl\"}], \"histogram\": [{\"marker\": {\"colorbar\": {\"outlinewidth\": 0, \"ticks\": \"\"}}, \"type\": \"histogram\"}], \"histogram2d\": [{\"colorbar\": {\"outlinewidth\": 0, \"ticks\": \"\"}, \"colorscale\": [[0.0, \"#0d0887\"], [0.1111111111111111, \"#46039f\"], [0.2222222222222222, \"#7201a8\"], [0.3333333333333333, \"#9c179e\"], [0.4444444444444444, \"#bd3786\"], [0.5555555555555556, \"#d8576b\"], [0.6666666666666666, \"#ed7953\"], [0.7777777777777778, \"#fb9f3a\"], [0.8888888888888888, \"#fdca26\"], [1.0, \"#f0f921\"]], \"type\": \"histogram2d\"}], \"histogram2dcontour\": [{\"colorbar\": {\"outlinewidth\": 0, \"ticks\": \"\"}, \"colorscale\": [[0.0, \"#0d0887\"], [0.1111111111111111, \"#46039f\"], [0.2222222222222222, \"#7201a8\"], [0.3333333333333333, \"#9c179e\"], [0.4444444444444444, \"#bd3786\"], [0.5555555555555556, \"#d8576b\"], [0.6666666666666666, \"#ed7953\"], [0.7777777777777778, \"#fb9f3a\"], [0.8888888888888888, \"#fdca26\"], [1.0, \"#f0f921\"]], \"type\": \"histogram2dcontour\"}], \"mesh3d\": [{\"colorbar\": {\"outlinewidth\": 0, \"ticks\": \"\"}, \"type\": \"mesh3d\"}], \"parcoords\": [{\"line\": {\"colorbar\": {\"outlinewidth\": 0, \"ticks\": \"\"}}, \"type\": \"parcoords\"}], \"pie\": [{\"automargin\": true, \"type\": \"pie\"}], \"scatter\": [{\"marker\": {\"colorbar\": {\"outlinewidth\": 0, \"ticks\": \"\"}}, \"type\": \"scatter\"}], \"scatter3d\": [{\"line\": {\"colorbar\": {\"outlinewidth\": 0, \"ticks\": \"\"}}, \"marker\": {\"colorbar\": {\"outlinewidth\": 0, \"ticks\": \"\"}}, \"type\": \"scatter3d\"}], \"scattercarpet\": [{\"marker\": {\"colorbar\": {\"outlinewidth\": 0, \"ticks\": \"\"}}, \"type\": \"scattercarpet\"}], \"scattergeo\": [{\"marker\": {\"colorbar\": {\"outlinewidth\": 0, \"ticks\": \"\"}}, \"type\": \"scattergeo\"}], \"scattergl\": [{\"marker\": {\"colorbar\": {\"outlinewidth\": 0, \"ticks\": \"\"}}, \"type\": \"scattergl\"}], \"scattermapbox\": [{\"marker\": {\"colorbar\": {\"outlinewidth\": 0, \"ticks\": \"\"}}, \"type\": \"scattermapbox\"}], \"scatterpolar\": [{\"marker\": {\"colorbar\": {\"outlinewidth\": 0, \"ticks\": \"\"}}, \"type\": \"scatterpolar\"}], \"scatterpolargl\": [{\"marker\": {\"colorbar\": {\"outlinewidth\": 0, \"ticks\": \"\"}}, \"type\": \"scatterpolargl\"}], \"scatterternary\": [{\"marker\": {\"colorbar\": {\"outlinewidth\": 0, \"ticks\": \"\"}}, \"type\": \"scatterternary\"}], \"surface\": [{\"colorbar\": {\"outlinewidth\": 0, \"ticks\": \"\"}, \"colorscale\": [[0.0, \"#0d0887\"], [0.1111111111111111, \"#46039f\"], [0.2222222222222222, \"#7201a8\"], [0.3333333333333333, \"#9c179e\"], [0.4444444444444444, \"#bd3786\"], [0.5555555555555556, \"#d8576b\"], [0.6666666666666666, \"#ed7953\"], [0.7777777777777778, \"#fb9f3a\"], [0.8888888888888888, \"#fdca26\"], [1.0, \"#f0f921\"]], \"type\": \"surface\"}], \"table\": [{\"cells\": {\"fill\": {\"color\": \"#EBF0F8\"}, \"line\": {\"color\": \"white\"}}, \"header\": {\"fill\": {\"color\": \"#C8D4E3\"}, \"line\": {\"color\": \"white\"}}, \"type\": \"table\"}]}, \"layout\": {\"annotationdefaults\": {\"arrowcolor\": \"#2a3f5f\", \"arrowhead\": 0, \"arrowwidth\": 1}, \"coloraxis\": {\"colorbar\": {\"outlinewidth\": 0, \"ticks\": \"\"}}, \"colorscale\": {\"diverging\": [[0, \"#8e0152\"], [0.1, \"#c51b7d\"], [0.2, \"#de77ae\"], [0.3, \"#f1b6da\"], [0.4, \"#fde0ef\"], [0.5, \"#f7f7f7\"], [0.6, \"#e6f5d0\"], [0.7, \"#b8e186\"], [0.8, \"#7fbc41\"], [0.9, \"#4d9221\"], [1, \"#276419\"]], \"sequential\": [[0.0, \"#0d0887\"], [0.1111111111111111, \"#46039f\"], [0.2222222222222222, \"#7201a8\"], [0.3333333333333333, \"#9c179e\"], [0.4444444444444444, \"#bd3786\"], [0.5555555555555556, \"#d8576b\"], [0.6666666666666666, \"#ed7953\"], [0.7777777777777778, \"#fb9f3a\"], [0.8888888888888888, \"#fdca26\"], [1.0, \"#f0f921\"]], \"sequentialminus\": [[0.0, \"#0d0887\"], [0.1111111111111111, \"#46039f\"], [0.2222222222222222, \"#7201a8\"], [0.3333333333333333, \"#9c179e\"], [0.4444444444444444, \"#bd3786\"], [0.5555555555555556, \"#d8576b\"], [0.6666666666666666, \"#ed7953\"], [0.7777777777777778, \"#fb9f3a\"], [0.8888888888888888, \"#fdca26\"], [1.0, \"#f0f921\"]]}, \"colorway\": [\"#636efa\", \"#EF553B\", \"#00cc96\", \"#ab63fa\", \"#FFA15A\", \"#19d3f3\", \"#FF6692\", \"#B6E880\", \"#FF97FF\", \"#FECB52\"], \"font\": {\"color\": \"#2a3f5f\"}, \"geo\": {\"bgcolor\": \"white\", \"lakecolor\": \"white\", \"landcolor\": \"#E5ECF6\", \"showlakes\": true, \"showland\": true, \"subunitcolor\": \"white\"}, \"hoverlabel\": {\"align\": \"left\"}, \"hovermode\": \"closest\", \"mapbox\": {\"style\": \"light\"}, \"paper_bgcolor\": \"white\", \"plot_bgcolor\": \"#E5ECF6\", \"polar\": {\"angularaxis\": {\"gridcolor\": \"white\", \"linecolor\": \"white\", \"ticks\": \"\"}, \"bgcolor\": \"#E5ECF6\", \"radialaxis\": {\"gridcolor\": \"white\", \"linecolor\": \"white\", \"ticks\": \"\"}}, \"scene\": {\"xaxis\": {\"backgroundcolor\": \"#E5ECF6\", \"gridcolor\": \"white\", \"gridwidth\": 2, \"linecolor\": \"white\", \"showbackground\": true, \"ticks\": \"\", \"zerolinecolor\": \"white\"}, \"yaxis\": {\"backgroundcolor\": \"#E5ECF6\", \"gridcolor\": \"white\", \"gridwidth\": 2, \"linecolor\": \"white\", \"showbackground\": true, \"ticks\": \"\", \"zerolinecolor\": \"white\"}, \"zaxis\": {\"backgroundcolor\": \"#E5ECF6\", \"gridcolor\": \"white\", \"gridwidth\": 2, \"linecolor\": \"white\", \"showbackground\": true, \"ticks\": \"\", \"zerolinecolor\": \"white\"}}, \"shapedefaults\": {\"line\": {\"color\": \"#2a3f5f\"}}, \"ternary\": {\"aaxis\": {\"gridcolor\": \"white\", \"linecolor\": \"white\", \"ticks\": \"\"}, \"baxis\": {\"gridcolor\": \"white\", \"linecolor\": \"white\", \"ticks\": \"\"}, \"bgcolor\": \"#E5ECF6\", \"caxis\": {\"gridcolor\": \"white\", \"linecolor\": \"white\", \"ticks\": \"\"}}, \"title\": {\"x\": 0.05}, \"xaxis\": {\"automargin\": true, \"gridcolor\": \"white\", \"linecolor\": \"white\", \"ticks\": \"\", \"title\": {\"standoff\": 15}, \"zerolinecolor\": \"white\", \"zerolinewidth\": 2}, \"yaxis\": {\"automargin\": true, \"gridcolor\": \"white\", \"linecolor\": \"white\", \"ticks\": \"\", \"title\": {\"standoff\": 15}, \"zerolinecolor\": \"white\", \"zerolinewidth\": 2}}}, \"title\": {\"text\": \"Average forecasted GEPI from 2021 to 2025- Double Exponential Smoothing\"}},\n",
       "                        {\"responsive\": true}\n",
       "                    ).then(function(){\n",
       "                            \n",
       "var gd = document.getElementById('7bef4a15-27a6-4ba4-900d-925840eae36d');\n",
       "var x = new MutationObserver(function (mutations, observer) {{\n",
       "        var display = window.getComputedStyle(gd).display;\n",
       "        if (!display || display === 'none') {{\n",
       "            console.log([gd, 'removed!']);\n",
       "            Plotly.purge(gd);\n",
       "            observer.disconnect();\n",
       "        }}\n",
       "}});\n",
       "\n",
       "// Listen for the removal of the full notebook cells\n",
       "var notebookContainer = gd.closest('#notebook-container');\n",
       "if (notebookContainer) {{\n",
       "    x.observe(notebookContainer, {childList: true});\n",
       "}}\n",
       "\n",
       "// Listen for the clearing of the current output cell\n",
       "var outputEl = gd.closest('.output');\n",
       "if (outputEl) {{\n",
       "    x.observe(outputEl, {childList: true});\n",
       "}}\n",
       "\n",
       "                        })\n",
       "                };\n",
       "                });\n",
       "            </script>\n",
       "        </div>"
      ]
     },
     "metadata": {},
     "output_type": "display_data"
    }
   ],
   "source": [
    "import plotly.graph_objects as go\n",
    "fig = go.Figure(data=go.Choropleth(\n",
    "    locations = df_GenderEmploymentIndex['Country Code'],\n",
    "    z = df_GenderEmploymentIndex['post5yearaverage'],\n",
    "    text = df_GenderEmploymentIndex['Country Name'],\n",
    "    colorscale = 'Blues',\n",
    "    autocolorscale=False,\n",
    "    reversescale=False,\n",
    "    marker_line_color='darkgray',\n",
    "    marker_line_width=0.5,\n",
    "    colorbar_tickprefix = '',\n",
    "    colorbar_title = 'GEPI',\n",
    "))\n",
    "\n",
    "fig.update_layout(\n",
    "    title_text='Average forecasted GEPI from 2021 to 2025- Double Exponential Smoothing',\n",
    "    geo=dict(\n",
    "        showframe=False,\n",
    "        showcoastlines=False,\n",
    "        projection_type='equirectangular'\n",
    "    )\n",
    "    \n",
    ")\n",
    "\n",
    "fig.show()"
   ]
  },
  {
   "cell_type": "code",
   "execution_count": 11,
   "metadata": {},
   "outputs": [],
   "source": [
    "df_GenderEmploymentIndex.to_csv (r'comboclustered_data2.csv', index = None, header=True) "
   ]
  },
  {
   "cell_type": "code",
   "execution_count": null,
   "metadata": {},
   "outputs": [],
   "source": []
  }
 ],
 "metadata": {
  "kernelspec": {
   "display_name": "Python 3",
   "language": "python",
   "name": "python3"
  },
  "language_info": {
   "codemirror_mode": {
    "name": "ipython",
    "version": 3
   },
   "file_extension": ".py",
   "mimetype": "text/x-python",
   "name": "python",
   "nbconvert_exporter": "python",
   "pygments_lexer": "ipython3",
   "version": "3.7.3"
  }
 },
 "nbformat": 4,
 "nbformat_minor": 4
}
