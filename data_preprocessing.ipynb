{
 "cells": [
  {
   "cell_type": "code",
   "execution_count": 70,
   "metadata": {},
   "outputs": [],
   "source": [
    "import pandas as pd\n",
    "\n",
    "FILE_1 = './Dataset/employment/Contributing_family _workers_female.xls'\n",
    "FILE_2 = './Dataset/employment/Contributing_family _workers_male.xls'\n",
    "FILE_3 = './Dataset/employment/economy_types.xlsx'\n",
    "FILE_4 = './Dataset/employment/Employment_agriculture_female.xls'\n",
    "FILE_5 = './Dataset/employment/Employment_agriculture_male.xls'\n",
    "FILE_6 = './Dataset/employment/Employment_indusrty_female.xls'\n",
    "FILE_7 = './Dataset/employment/Employment_indusrty_male.xls'\n",
    "FILE_8 = './Dataset/employment/Employment_services_female.xls'\n",
    "FILE_9 = './Dataset/employment/Employment_services_male.xls'\n",
    "FILE_10 = './Dataset/employment/EmploymentToPopulationRatio_15+_female.xls'\n",
    "FILE_11 = './Dataset/employment/EmploymentToPopulationRatio_15+_male.xls'\n",
    "FILE_12 = './Dataset/employment/GenderEmploymentIndex.xls'\n",
    "FILE_13 = './Dataset/employment/labor_force_participation_rate_female.xls'\n",
    "FILE_14 = './Dataset/employment/labor_force_participation_rate_male.xls'\n",
    "FILE_15 = './Dataset/employment/proportion_women_parliament.xls'\n",
    "FILE_16 = './Dataset/employment/Total_Unemployment_female.xls'\n",
    "FILE_17 = './Dataset/employment/Total_Unemployment_male.xls'\n",
    "FILE_18 = './Dataset/employment/Unemployment_15_24_female.xls'\n",
    "FILE_19 = './Dataset/employment/Unemployment_15_24_male.xls'\n",
    "FILE_20 = './Dataset/employment/Vulnerable_female.xls'\n",
    "FILE_21 = './Dataset/employment/Vulnerable_male.xls'\n",
    "FILE_22 = './Dataset/employment/Wages_female.xls'\n",
    "FILE_23 = './Dataset/employment/Wages_male.xls'\n",
    "\n",
    "\n",
    "df1 = pd.read_excel(FILE_1,sheet_name=\"Data\",index_col=0)\n",
    "df2 = pd.read_excel(FILE_2,sheet_name=\"Data\",index_col=0)\n",
    "df3 = pd.read_excel(FILE_3,sheet_name=\"Sheet1\",index_col=0)\n",
    "df4 = pd.read_excel(FILE_4,sheet_name=\"Data\",index_col=0)\n",
    "df5 = pd.read_excel(FILE_5,sheet_name=\"Data\",index_col=0)\n",
    "df6 = pd.read_excel(FILE_6,sheet_name=\"Data\",index_col=0)\n",
    "df7 = pd.read_excel(FILE_7,sheet_name=\"Data\",index_col=0)\n",
    "df8 = pd.read_excel(FILE_8,sheet_name=\"Data\",index_col=0)\n",
    "df9 = pd.read_excel(FILE_9,sheet_name=\"Data\",index_col=0)\n",
    "df10 = pd.read_excel(FILE_10,sheet_name=\"Data\",index_col=0)\n",
    "df11 = pd.read_excel(FILE_11,sheet_name=\"Data\",index_col=0)\n",
    "df12 = pd.read_excel(FILE_12,sheet_name=\"Sheet1\",index_col=0)\n",
    "df13 = pd.read_excel(FILE_13,sheet_name=\"Data\",index_col=0)\n",
    "df14 = pd.read_excel(FILE_14,sheet_name=\"Data\",index_col=0)\n",
    "df15 = pd.read_excel(FILE_15,sheet_name=\"Data\",index_col=0)\n",
    "df16 = pd.read_excel(FILE_16,sheet_name=\"Data\",index_col=0)\n",
    "df17 = pd.read_excel(FILE_17,sheet_name=\"Data\",index_col=0)\n",
    "df18 = pd.read_excel(FILE_18,sheet_name=\"Data\",index_col=0)\n",
    "df19 = pd.read_excel(FILE_19,sheet_name=\"Data\",index_col=0)\n",
    "df20 = pd.read_excel(FILE_20,sheet_name=\"Data\",index_col=0)\n",
    "df21 = pd.read_excel(FILE_21,sheet_name=\"Data\",index_col=0)\n",
    "df22 = pd.read_excel(FILE_22,sheet_name=\"Data\",index_col=0)\n",
    "df23 = pd.read_excel(FILE_23,sheet_name=\"Data\",index_col=0)\n",
    "\n",
    "merged_inner1 = pd.merge(left=df1, right=df2, left_on='Country Code', right_on='Country Code')\n",
    "merged_inner2= pd.merge(left=merged_inner1, right=df3, left_on='Country Code', right_on='Country Code')\n",
    "merged_inner3= pd.merge(left=merged_inner2, right=df4, left_on='Country Code', right_on='Country Code')\n",
    "merged_inner4= pd.merge(left=merged_inner3, right=df5, left_on='Country Code', right_on='Country Code')\n",
    "merged_inner5= pd.merge(left=merged_inner4, right=df6, left_on='Country Code', right_on='Country Code')\n",
    "merged_inner6= pd.merge(left=merged_inner5, right=df7, left_on='Country Code', right_on='Country Code')\n",
    "merged_inner7= pd.merge(left=merged_inner6, right=df8, left_on='Country Code', right_on='Country Code')\n",
    "merged_inner8= pd.merge(left=merged_inner7, right=df9, left_on='Country Code', right_on='Country Code')\n",
    "merged_inner9= pd.merge(left=merged_inner8, right=df10, left_on='Country Code', right_on='Country Code')\n",
    "merged_inner10= pd.merge(left=merged_inner9, right=df11, left_on='Country Code', right_on='Country Code')\n",
    "merged_inner11= pd.merge(left=merged_inner10, right=df13, left_on='Country Code', right_on='Country Code')\n",
    "merged_inner12= pd.merge(left=merged_inner11, right=df14, left_on='Country Code', right_on='Country Code')\n",
    "merged_inner13= pd.merge(left=merged_inner12, right=df15, left_on='Country Code', right_on='Country Code')\n",
    "merged_inner14= pd.merge(left=merged_inner13, right=df16, left_on='Country Code', right_on='Country Code')\n",
    "merged_inner15= pd.merge(left=merged_inner14, right=df17, left_on='Country Code', right_on='Country Code')\n",
    "merged_inner16= pd.merge(left=merged_inner15, right=df18, left_on='Country Code', right_on='Country Code')\n",
    "merged_inner17= pd.merge(left=merged_inner16, right=df19, left_on='Country Code', right_on='Country Code')\n",
    "merged_inner18= pd.merge(left=merged_inner17, right=df20, left_on='Country Code', right_on='Country Code')\n",
    "merged_inner19= pd.merge(left=merged_inner18, right=df21, left_on='Country Code', right_on='Country Code')\n",
    "merged_inner20= pd.merge(left=merged_inner19, right=df22, left_on='Country Code', right_on='Country Code')\n",
    "merged_inner21= pd.merge(left=merged_inner20, right=df23, left_on='Country Code', right_on='Country Code')\n",
    "\n",
    "df_pre_processed = merged_inner21\n",
    "\n"
   ]
  },
  {
   "cell_type": "code",
   "execution_count": null,
   "metadata": {},
   "outputs": [],
   "source": []
  },
  {
   "cell_type": "code",
   "execution_count": 71,
   "metadata": {},
   "outputs": [
    {
     "data": {
      "text/plain": [
       "1991_x    455.341895\n",
       "1992_x    448.775565\n",
       "1993_x    445.077906\n",
       "1994_x    438.712129\n",
       "1995_x    431.237895\n",
       "1996_x    430.632772\n",
       "1997_x    421.404799\n",
       "1998_x    421.678853\n",
       "1999_x    417.773443\n",
       "2000_x    408.882741\n",
       "2001_x    403.139026\n",
       "2002_x    394.406779\n",
       "2003_x    395.174143\n",
       "2004_x    391.375093\n",
       "2005_x    383.679035\n",
       "2006_x    378.560563\n",
       "2007_x    373.870781\n",
       "2008_x    371.344280\n",
       "2009_x    363.508393\n",
       "2010_x    358.811179\n",
       "2011_x    351.610429\n",
       "2012_x    350.625963\n",
       "2013_x    342.387688\n",
       "2014_x    334.901078\n",
       "2015_x    324.352676\n",
       "2016_x    315.096630\n",
       "2017_x    307.452341\n",
       "2018_x    302.751710\n",
       "2019_x    298.738304\n",
       "2020_x    294.860813\n",
       "             ...    \n",
       "1991      701.345576\n",
       "1992      696.509198\n",
       "1993      693.507411\n",
       "1994      694.346333\n",
       "1995      692.217730\n",
       "1996      685.059330\n",
       "1997      680.563489\n",
       "1998      675.815948\n",
       "1999      668.377225\n",
       "2000      668.185175\n",
       "2001      661.660439\n",
       "2002      657.286272\n",
       "2003      655.277506\n",
       "2004      647.662786\n",
       "2005      646.833221\n",
       "2006      643.334765\n",
       "2007      639.595589\n",
       "2008      637.950104\n",
       "2009      626.269367\n",
       "2010      622.298124\n",
       "2011      615.366017\n",
       "2012      606.161385\n",
       "2013      598.858629\n",
       "2014      595.132311\n",
       "2015      592.864902\n",
       "2016      590.122071\n",
       "2017      588.818914\n",
       "2018      587.542241\n",
       "2019      585.012884\n",
       "2020      582.426205\n",
       "Length: 630, dtype: float64"
      ]
     },
     "execution_count": 71,
     "metadata": {},
     "output_type": "execute_result"
    }
   ],
   "source": [
    "\n",
    "#checking the columns for values with low variance\n",
    "df_pre_processed.var()"
   ]
  },
  {
   "cell_type": "code",
   "execution_count": 72,
   "metadata": {},
   "outputs": [
    {
     "name": "stdout",
     "output_type": "stream",
     "text": [
      "(185, 639)\n"
     ]
    }
   ],
   "source": [
    "print(df_pre_processed.shape)"
   ]
  },
  {
   "cell_type": "code",
   "execution_count": null,
   "metadata": {},
   "outputs": [],
   "source": []
  },
  {
   "cell_type": "code",
   "execution_count": 73,
   "metadata": {},
   "outputs": [],
   "source": [
    "#Removing features with high correlation\n",
    "correlated_features = set()\n",
    "correlation_matrix = df_pre_processed.corr()"
   ]
  },
  {
   "cell_type": "code",
   "execution_count": 74,
   "metadata": {},
   "outputs": [],
   "source": [
    "for i in range(len(correlation_matrix .columns)):\n",
    "    for j in range(i):\n",
    "        if abs(correlation_matrix.iloc[i, j]) > 0.8:\n",
    "            colname = correlation_matrix.columns[i]\n",
    "            correlated_features.add(colname)"
   ]
  },
  {
   "cell_type": "code",
   "execution_count": 29,
   "metadata": {},
   "outputs": [
    {
     "name": "stdout",
     "output_type": "stream",
     "text": [
      "{'1998', '2016', '2005', '2013', '2004', '2017', '2001', '2011', '2007', '1994', '2010', '2019', '2000', '2006', '1997', '2002', '2012', '2018', '2014', '2008', '2020', '2003', '1996', '2015', '1999', '1992', '2009', '1993', '1995'}\n"
     ]
    }
   ],
   "source": [
    "print(correlated_features)"
   ]
  },
  {
   "cell_type": "code",
   "execution_count": 30,
   "metadata": {},
   "outputs": [
    {
     "name": "stdout",
     "output_type": "stream",
     "text": [
      "29\n"
     ]
    }
   ],
   "source": [
    "\n",
    "print(len(correlated_features))"
   ]
  },
  {
   "cell_type": "code",
   "execution_count": 31,
   "metadata": {},
   "outputs": [
    {
     "name": "stdout",
     "output_type": "stream",
     "text": [
      "(187, 2)\n"
     ]
    }
   ],
   "source": [
    "df_pre_processed.drop(labels=correlated_features, axis=1, inplace=True)\n",
    "print(df_pre_processed.shape)"
   ]
  },
  {
   "cell_type": "code",
   "execution_count": 32,
   "metadata": {},
   "outputs": [
    {
     "ename": "NameError",
     "evalue": "name 'data' is not defined",
     "output_type": "error",
     "traceback": [
      "\u001b[0;31m---------------------------------------------------------------------------\u001b[0m",
      "\u001b[0;31mNameError\u001b[0m                                 Traceback (most recent call last)",
      "\u001b[0;32m<ipython-input-32-8dab9a304cc4>\u001b[0m in \u001b[0;36m<module>\u001b[0;34m\u001b[0m\n\u001b[1;32m      8\u001b[0m \u001b[0;34m\u001b[0m\u001b[0m\n\u001b[1;32m      9\u001b[0m \u001b[0mX\u001b[0m \u001b[0;34m=\u001b[0m \u001b[0mdata_dict1\u001b[0m\u001b[0;34m.\u001b[0m\u001b[0mvalues\u001b[0m\u001b[0;34m\u001b[0m\u001b[0;34m\u001b[0m\u001b[0m\n\u001b[0;32m---> 10\u001b[0;31m \u001b[0my\u001b[0m \u001b[0;34m=\u001b[0m \u001b[0mminmax_scale\u001b[0m\u001b[0;34m(\u001b[0m\u001b[0mdata\u001b[0m\u001b[0;34m.\u001b[0m\u001b[0meducation\u001b[0m\u001b[0;34m[\u001b[0m\u001b[0;34m\"Percent of adults with a bachelor's degree or higher, 2014-18\"\u001b[0m\u001b[0;34m]\u001b[0m\u001b[0;34m.\u001b[0m\u001b[0mvalues\u001b[0m\u001b[0;34m)\u001b[0m\u001b[0;34m\u001b[0m\u001b[0;34m\u001b[0m\u001b[0m\n\u001b[0m\u001b[1;32m     11\u001b[0m \u001b[0;34m\u001b[0m\u001b[0m\n\u001b[1;32m     12\u001b[0m \u001b[0mmodel\u001b[0m\u001b[0;34m.\u001b[0m\u001b[0mfit\u001b[0m\u001b[0;34m(\u001b[0m\u001b[0mX\u001b[0m\u001b[0;34m,\u001b[0m\u001b[0my\u001b[0m\u001b[0;34m)\u001b[0m\u001b[0;34m\u001b[0m\u001b[0;34m\u001b[0m\u001b[0m\n",
      "\u001b[0;31mNameError\u001b[0m: name 'data' is not defined"
     ]
    }
   ],
   "source": []
  },
  {
   "cell_type": "code",
   "execution_count": null,
   "metadata": {},
   "outputs": [],
   "source": []
  }
 ],
 "metadata": {
  "kernelspec": {
   "display_name": "Python 3",
   "language": "python",
   "name": "python3"
  },
  "language_info": {
   "codemirror_mode": {
    "name": "ipython",
    "version": 3
   },
   "file_extension": ".py",
   "mimetype": "text/x-python",
   "name": "python",
   "nbconvert_exporter": "python",
   "pygments_lexer": "ipython3",
   "version": "3.7.3"
  }
 },
 "nbformat": 4,
 "nbformat_minor": 2
}
